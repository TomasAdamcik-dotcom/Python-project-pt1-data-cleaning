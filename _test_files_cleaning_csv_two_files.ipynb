{
 "cells": [
  {
   "cell_type": "code",
   "execution_count": 12,
   "metadata": {},
   "outputs": [
    {
     "name": "stdout",
     "output_type": "stream",
     "text": [
      "Requirement already satisfied: pandas in c:\\users\\adamc\\appdata\\local\\packages\\pythonsoftwarefoundation.python.3.8_qbz5n2kfra8p0\\localcache\\local-packages\\python38\\site-packages (1.3.4)\n",
      "Requirement already satisfied: python-dateutil>=2.7.3 in c:\\users\\adamc\\appdata\\local\\packages\\pythonsoftwarefoundation.python.3.8_qbz5n2kfra8p0\\localcache\\local-packages\\python38\\site-packages (from pandas) (2.8.2)\n",
      "Requirement already satisfied: numpy>=1.17.3 in c:\\users\\adamc\\appdata\\local\\packages\\pythonsoftwarefoundation.python.3.8_qbz5n2kfra8p0\\localcache\\local-packages\\python38\\site-packages (from pandas) (1.21.4)\n",
      "Requirement already satisfied: pytz>=2017.3 in c:\\users\\adamc\\appdata\\local\\packages\\pythonsoftwarefoundation.python.3.8_qbz5n2kfra8p0\\localcache\\local-packages\\python38\\site-packages (from pandas) (2021.3)\n",
      "Requirement already satisfied: six>=1.5 in c:\\users\\adamc\\appdata\\local\\packages\\pythonsoftwarefoundation.python.3.8_qbz5n2kfra8p0\\localcache\\local-packages\\python38\\site-packages (from python-dateutil>=2.7.3->pandas) (1.16.0)\n"
     ]
    },
    {
     "name": "stderr",
     "output_type": "stream",
     "text": [
      "WARNING: You are using pip version 21.1.1; however, version 21.3.1 is available.\n",
      "You should consider upgrading via the 'C:\\Users\\adamc\\AppData\\Local\\Microsoft\\WindowsApps\\PythonSoftwareFoundation.Python.3.8_qbz5n2kfra8p0\\python.exe -m pip install --upgrade pip' command.\n"
     ]
    },
    {
     "name": "stdout",
     "output_type": "stream",
     "text": [
      "Requirement already satisfied: petl in c:\\users\\adamc\\appdata\\local\\packages\\pythonsoftwarefoundation.python.3.8_qbz5n2kfra8p0\\localcache\\local-packages\\python38\\site-packages (1.7.4)\n"
     ]
    },
    {
     "name": "stderr",
     "output_type": "stream",
     "text": [
      "WARNING: You are using pip version 21.1.1; however, version 21.3.1 is available.\n",
      "You should consider upgrading via the 'C:\\Users\\adamc\\AppData\\Local\\Microsoft\\WindowsApps\\PythonSoftwareFoundation.Python.3.8_qbz5n2kfra8p0\\python.exe -m pip install --upgrade pip' command.\n",
      "ERROR: Could not find a version that satisfies the requirement glob (from versions: none)\n",
      "ERROR: No matching distribution found for glob\n",
      "WARNING: You are using pip version 21.1.1; however, version 21.3.1 is available.\n",
      "You should consider upgrading via the 'C:\\Users\\adamc\\AppData\\Local\\Microsoft\\WindowsApps\\PythonSoftwareFoundation.Python.3.8_qbz5n2kfra8p0\\python.exe -m pip install --upgrade pip' command.\n"
     ]
    }
   ],
   "source": [
    "! pip install pandas\n",
    "! pip install petl\n",
    "! pip install glob\n"
   ]
  },
  {
   "cell_type": "code",
   "execution_count": 13,
   "metadata": {},
   "outputs": [],
   "source": [
    "import pandas as pd\n",
    "import petl as etl\n",
    "import os\n",
    "import glob"
   ]
  },
  {
   "cell_type": "markdown",
   "metadata": {},
   "source": [
    "1.1. Creating dataframe of all CSV files"
   ]
  },
  {
   "cell_type": "code",
   "execution_count": 14,
   "metadata": {},
   "outputs": [],
   "source": [
    "# CSV FILES APPENDING TO A SINGLE DATAFRAME\n",
    "\n",
    "# path = \"branch_data/sales_by_branch\"\n",
    "# all_csv_files = glob.glob(os.path.join(path, \"*.csv\"))\n",
    "\n",
    "# df_from_each_csv_file = (pd\n",
    "#                     .read_csv(file, sep=',')\n",
    "#                     .rename(columns={\n",
    "#                         'total_quantity': 'quantity', \n",
    "#                         'quantity_purchased': 'quantity',\n",
    "#                         'total_quantity_purchased': 'quantity',\n",
    "#                         'item': 'product',\n",
    "#                         'sku': 'product',\n",
    "#                         })\n",
    "#                     .assign(branch = file[38:][:-4].replace('_', ' ')) \n",
    "#                     for file in all_csv_files)\n",
    "\n",
    "\n",
    "# df_csv_merged = pd.concat(df_from_each_csv_file, ignore_index=True)\n",
    "\n",
    "# # df_csv_merged = pd.DataFrame(df_csv_merged)\n",
    "# df_csv_merged.head()"
   ]
  },
  {
   "cell_type": "code",
   "execution_count": 15,
   "metadata": {},
   "outputs": [
    {
     "data": {
      "text/html": [
       "<div>\n",
       "<style scoped>\n",
       "    .dataframe tbody tr th:only-of-type {\n",
       "        vertical-align: middle;\n",
       "    }\n",
       "\n",
       "    .dataframe tbody tr th {\n",
       "        vertical-align: top;\n",
       "    }\n",
       "\n",
       "    .dataframe thead th {\n",
       "        text-align: right;\n",
       "    }\n",
       "</style>\n",
       "<table border=\"1\" class=\"dataframe\">\n",
       "  <thead>\n",
       "    <tr style=\"text-align: right;\">\n",
       "      <th></th>\n",
       "      <th>year</th>\n",
       "      <th>month</th>\n",
       "      <th>day</th>\n",
       "      <th>hour</th>\n",
       "      <th>product</th>\n",
       "      <th>quantity</th>\n",
       "      <th>amount_in_gbp</th>\n",
       "      <th>branch</th>\n",
       "    </tr>\n",
       "  </thead>\n",
       "  <tbody>\n",
       "    <tr>\n",
       "      <th>0</th>\n",
       "      <td>2010</td>\n",
       "      <td>1</td>\n",
       "      <td>9</td>\n",
       "      <td>0</td>\n",
       "      <td>chocolate twist</td>\n",
       "      <td>182</td>\n",
       "      <td>145.6</td>\n",
       "      <td>010-2020 Bassetlaw outlet</td>\n",
       "    </tr>\n",
       "    <tr>\n",
       "      <th>1</th>\n",
       "      <td>2010</td>\n",
       "      <td>1</td>\n",
       "      <td>9</td>\n",
       "      <td>0</td>\n",
       "      <td>plastic sunshades</td>\n",
       "      <td>98</td>\n",
       "      <td>313.6</td>\n",
       "      <td>010-2020 Bassetlaw outlet</td>\n",
       "    </tr>\n",
       "    <tr>\n",
       "      <th>2</th>\n",
       "      <td>2010</td>\n",
       "      <td>1</td>\n",
       "      <td>9</td>\n",
       "      <td>0</td>\n",
       "      <td>lg washing machine</td>\n",
       "      <td>151</td>\n",
       "      <td>12080.0</td>\n",
       "      <td>010-2020 Bassetlaw outlet</td>\n",
       "    </tr>\n",
       "    <tr>\n",
       "      <th>3</th>\n",
       "      <td>2010</td>\n",
       "      <td>1</td>\n",
       "      <td>9</td>\n",
       "      <td>0</td>\n",
       "      <td>fresh whole chicken</td>\n",
       "      <td>230</td>\n",
       "      <td>257.6</td>\n",
       "      <td>010-2020 Bassetlaw outlet</td>\n",
       "    </tr>\n",
       "    <tr>\n",
       "      <th>4</th>\n",
       "      <td>2010</td>\n",
       "      <td>1</td>\n",
       "      <td>9</td>\n",
       "      <td>0</td>\n",
       "      <td>free range large eggs x12</td>\n",
       "      <td>150</td>\n",
       "      <td>180.0</td>\n",
       "      <td>010-2020 Bassetlaw outlet</td>\n",
       "    </tr>\n",
       "  </tbody>\n",
       "</table>\n",
       "</div>"
      ],
      "text/plain": [
       "   year  month  day  hour                    product quantity  amount_in_gbp  \\\n",
       "0  2010      1    9     0            chocolate twist      182          145.6   \n",
       "1  2010      1    9     0          plastic sunshades       98          313.6   \n",
       "2  2010      1    9     0         lg washing machine      151        12080.0   \n",
       "3  2010      1    9     0        fresh whole chicken      230          257.6   \n",
       "4  2010      1    9     0  free range large eggs x12      150          180.0   \n",
       "\n",
       "                      branch  \n",
       "0  010-2020 Bassetlaw outlet  \n",
       "1  010-2020 Bassetlaw outlet  \n",
       "2  010-2020 Bassetlaw outlet  \n",
       "3  010-2020 Bassetlaw outlet  \n",
       "4  010-2020 Bassetlaw outlet  "
      ]
     },
     "execution_count": 15,
     "metadata": {},
     "output_type": "execute_result"
    }
   ],
   "source": [
    "path = \"branch_data/sales_by_branch/csv_pt_1\"\n",
    "all_csv_files = glob.glob(os.path.join(path, \"*.csv\"))\n",
    "\n",
    "df_from_each_csv_file = (pd\n",
    "                    .read_csv(file, sep=',')\n",
    "                    .rename(columns={\n",
    "                        'total_quantity': 'quantity', \n",
    "                        'quantity_purchased': 'quantity',\n",
    "                        'total_quantity_purchased': 'quantity',\n",
    "                        'item': 'product',\n",
    "                        'sku': 'product',\n",
    "                        })\n",
    "                    .assign(branch = file[38:][:-4].replace('_', ' ')) \n",
    "                    for file in all_csv_files)\n",
    "\n",
    "\n",
    "df_csv_merged = pd.concat(df_from_each_csv_file, ignore_index=True)\n",
    "\n",
    "# df_csv_merged = pd.DataFrame(df_csv_merged)\n",
    "df_csv_merged.head()"
   ]
  },
  {
   "cell_type": "markdown",
   "metadata": {},
   "source": [
    "1.2. Creating dataframe of all JSON files"
   ]
  },
  {
   "cell_type": "markdown",
   "metadata": {},
   "source": [
    "1.3. Creating complete dataframe with all data"
   ]
  },
  {
   "cell_type": "code",
   "execution_count": 16,
   "metadata": {},
   "outputs": [
    {
     "name": "stdout",
     "output_type": "stream",
     "text": [
      "(2233025, 8)\n"
     ]
    }
   ],
   "source": [
    "# adding CSV and JSON files together\n",
    "\n",
    "# add json when ready\n",
    "complete_sales_df = df_csv_merged #.append(df_json_merged)\n",
    "# complete_sales_df = complete_sales_df.head(1000)\n",
    "complete_sales_df.head(5)\n",
    "print(complete_sales_df.shape)"
   ]
  },
  {
   "cell_type": "markdown",
   "metadata": {},
   "source": [
    "1.4. Fixing formatting of the main dataframe"
   ]
  },
  {
   "cell_type": "code",
   "execution_count": 17,
   "metadata": {},
   "outputs": [],
   "source": [
    "# USE ETL CONVERT TO REPLACE '-' IN quantity\n",
    "\n",
    "# complete_sales_df = etl.fromdataframe(complete_sales_df)\n",
    "# print(complete_sales_df.head(5))\n",
    "\n",
    "# complete_sales_df = etl.replaceall(complete_sales_df, '-', '0')\n",
    "# print(complete_sales_df.head(5))\n",
    "\n",
    "\n",
    "# print(complete_sales_df.head(5))\n",
    "\n",
    "\n",
    "# print(complete_sales_df.head(5))\n",
    "\n",
    "\n",
    "# print(complete_sales_df.head(5))\n",
    "\n",
    "# !!!!!!!!!!!!!!!!!!!!!!  BELOW WORKING  !!!!!!!!!!!!!!!!!!!!!!!!!\n",
    "\n",
    "\n",
    "# test_df = pd.read_csv('test.csv' )\n",
    "# test_df = pd.DataFrame(test_df)\n",
    "# '''Step 1'''\n",
    "# test_df = complete_sales_df\n",
    "# print(test_df)\n",
    "# '''2 Convert to dataframe'''\n",
    "# test_df = etl.fromdataframe(test_df)\n",
    "# print(test_df)\n",
    "# '''3 replace '-' with 0'''\n",
    "# test_df = etl.replaceall(test_df, '-', '0')\n",
    "# print(test_df)\n",
    "# '''4 convert to numbers'''\n",
    "# test_df = etl.convertnumbers(test_df)\n",
    "# print(test_df)\n",
    "# '''5 convert back to dataframe'''\n",
    "# test_df = etl.todataframe(test_df)\n",
    "# print(test_df)\n",
    "# '''6 groupby'''\n",
    "# # test_df = test_df.groupby('filename').sum()\n",
    "\n",
    "# print(test_df)\n",
    "\n"
   ]
  },
  {
   "cell_type": "code",
   "execution_count": 18,
   "metadata": {},
   "outputs": [
    {
     "name": "stdout",
     "output_type": "stream",
     "text": [
      "         year  month  day  hour                    product quantity  \\\n",
      "0        2010      1    9     0            chocolate twist      182   \n",
      "1        2010      1    9     0          plastic sunshades       98   \n",
      "2        2010      1    9     0         lg washing machine      151   \n",
      "3        2010      1    9     0        fresh whole chicken      230   \n",
      "4        2010      1    9     0  free range large eggs x12      150   \n",
      "...       ...    ...  ...   ...                        ...      ...   \n",
      "2233020  2020     12   22    23   hotpoint washing machine      132   \n",
      "2233021  2020     12   22    23            pain au raisins      221   \n",
      "2233022  2020     12   22    23                denim jeams       20   \n",
      "2233023  2020     12   22    23                  aubergine       33   \n",
      "2233024  2020     12   22    23        mild cheddar cheese      152   \n",
      "\n",
      "         amount_in_gbp                        branch  \n",
      "0               145.60     010-2020 Bassetlaw outlet  \n",
      "1               313.60     010-2020 Bassetlaw outlet  \n",
      "2             12080.00     010-2020 Bassetlaw outlet  \n",
      "3               257.60     010-2020 Bassetlaw outlet  \n",
      "4               180.00     010-2020 Bassetlaw outlet  \n",
      "...                ...                           ...  \n",
      "2233020       10560.00  010-2020 Castle Point outlet  \n",
      "2233021         110.50  010-2020 Castle Point outlet  \n",
      "2233022         600.00  010-2020 Castle Point outlet  \n",
      "2233023          22.77  010-2020 Castle Point outlet  \n",
      "2233024         334.40  010-2020 Castle Point outlet  \n",
      "\n",
      "[2233025 rows x 8 columns]\n"
     ]
    }
   ],
   "source": [
    "'''Step 1'''\n",
    "complete_sales_df = complete_sales_df\n",
    "print(complete_sales_df)"
   ]
  },
  {
   "cell_type": "code",
   "execution_count": 19,
   "metadata": {},
   "outputs": [
    {
     "name": "stdout",
     "output_type": "stream",
     "text": [
      "+------+-------+-----+------+---------------------------+----------+--------------------+---------------------------+\n",
      "| year | month | day | hour | product                   | quantity | amount_in_gbp      | branch                    |\n",
      "+======+=======+=====+======+===========================+==========+====================+===========================+\n",
      "| 2010 |     1 |   9 |    0 | chocolate twist           | 182      |              145.6 | 010-2020 Bassetlaw outlet |\n",
      "+------+-------+-----+------+---------------------------+----------+--------------------+---------------------------+\n",
      "| 2010 |     1 |   9 |    0 | plastic sunshades         | 98       |              313.6 | 010-2020 Bassetlaw outlet |\n",
      "+------+-------+-----+------+---------------------------+----------+--------------------+---------------------------+\n",
      "| 2010 |     1 |   9 |    0 | lg washing machine        | 151      |            12080.0 | 010-2020 Bassetlaw outlet |\n",
      "+------+-------+-----+------+---------------------------+----------+--------------------+---------------------------+\n",
      "| 2010 |     1 |   9 |    0 | fresh whole chicken       | 230      |              257.6 | 010-2020 Bassetlaw outlet |\n",
      "+------+-------+-----+------+---------------------------+----------+--------------------+---------------------------+\n",
      "| 2010 |     1 |   9 |    0 | free range large eggs x12 | 150      | 180.00000000000003 | 010-2020 Bassetlaw outlet |\n",
      "+------+-------+-----+------+---------------------------+----------+--------------------+---------------------------+\n",
      "...\n",
      "\n"
     ]
    }
   ],
   "source": [
    "'''2 Convert to dataframe'''\n",
    "complete_sales_df = etl.fromdataframe(complete_sales_df)\n",
    "print(complete_sales_df)"
   ]
  },
  {
   "cell_type": "code",
   "execution_count": 20,
   "metadata": {},
   "outputs": [
    {
     "name": "stdout",
     "output_type": "stream",
     "text": [
      "+------+-------+-----+------+---------------------------+----------+--------------------+---------------------------+\n",
      "| year | month | day | hour | product                   | quantity | amount_in_gbp      | branch                    |\n",
      "+======+=======+=====+======+===========================+==========+====================+===========================+\n",
      "| 2010 |     1 |   9 |    0 | chocolate twist           | 182      |              145.6 | 010-2020 Bassetlaw outlet |\n",
      "+------+-------+-----+------+---------------------------+----------+--------------------+---------------------------+\n",
      "| 2010 |     1 |   9 |    0 | plastic sunshades         | 98       |              313.6 | 010-2020 Bassetlaw outlet |\n",
      "+------+-------+-----+------+---------------------------+----------+--------------------+---------------------------+\n",
      "| 2010 |     1 |   9 |    0 | lg washing machine        | 151      |            12080.0 | 010-2020 Bassetlaw outlet |\n",
      "+------+-------+-----+------+---------------------------+----------+--------------------+---------------------------+\n",
      "| 2010 |     1 |   9 |    0 | fresh whole chicken       | 230      |              257.6 | 010-2020 Bassetlaw outlet |\n",
      "+------+-------+-----+------+---------------------------+----------+--------------------+---------------------------+\n",
      "| 2010 |     1 |   9 |    0 | free range large eggs x12 | 150      | 180.00000000000003 | 010-2020 Bassetlaw outlet |\n",
      "+------+-------+-----+------+---------------------------+----------+--------------------+---------------------------+\n",
      "...\n",
      "\n"
     ]
    }
   ],
   "source": [
    "'''3 replace '-' with 0'''\n",
    "complete_sales_df = etl.replaceall(complete_sales_df, '-', '0')\n",
    "print(complete_sales_df)"
   ]
  },
  {
   "cell_type": "code",
   "execution_count": 21,
   "metadata": {},
   "outputs": [
    {
     "data": {
      "text/html": [
       "<table class='petl'>\n",
       "<thead>\n",
       "<tr>\n",
       "<th>year</th>\n",
       "<th>month</th>\n",
       "<th>day</th>\n",
       "<th>hour</th>\n",
       "<th>product</th>\n",
       "<th>amount_in_gbp</th>\n",
       "<th>branch</th>\n",
       "<th>qty</th>\n",
       "</tr>\n",
       "</thead>\n",
       "<tbody>\n",
       "<tr>\n",
       "<td style='text-align: right'>2010</td>\n",
       "<td style='text-align: right'>1</td>\n",
       "<td style='text-align: right'>9</td>\n",
       "<td style='text-align: right'>0</td>\n",
       "<td>chocolate twist</td>\n",
       "<td style='text-align: right'>145.6</td>\n",
       "<td>010-2020 Bassetlaw outlet</td>\n",
       "<td style='text-align: right'>182</td>\n",
       "</tr>\n",
       "<tr>\n",
       "<td style='text-align: right'>2010</td>\n",
       "<td style='text-align: right'>1</td>\n",
       "<td style='text-align: right'>9</td>\n",
       "<td style='text-align: right'>0</td>\n",
       "<td>plastic sunshades</td>\n",
       "<td style='text-align: right'>313.6</td>\n",
       "<td>010-2020 Bassetlaw outlet</td>\n",
       "<td style='text-align: right'>98</td>\n",
       "</tr>\n",
       "<tr>\n",
       "<td style='text-align: right'>2010</td>\n",
       "<td style='text-align: right'>1</td>\n",
       "<td style='text-align: right'>9</td>\n",
       "<td style='text-align: right'>0</td>\n",
       "<td>lg washing machine</td>\n",
       "<td style='text-align: right'>12080.0</td>\n",
       "<td>010-2020 Bassetlaw outlet</td>\n",
       "<td style='text-align: right'>151</td>\n",
       "</tr>\n",
       "<tr>\n",
       "<td style='text-align: right'>2010</td>\n",
       "<td style='text-align: right'>1</td>\n",
       "<td style='text-align: right'>9</td>\n",
       "<td style='text-align: right'>0</td>\n",
       "<td>fresh whole chicken</td>\n",
       "<td style='text-align: right'>257.6</td>\n",
       "<td>010-2020 Bassetlaw outlet</td>\n",
       "<td style='text-align: right'>230</td>\n",
       "</tr>\n",
       "<tr>\n",
       "<td style='text-align: right'>2010</td>\n",
       "<td style='text-align: right'>1</td>\n",
       "<td style='text-align: right'>9</td>\n",
       "<td style='text-align: right'>0</td>\n",
       "<td>free range large eggs x12</td>\n",
       "<td style='text-align: right'>180.00000000000003</td>\n",
       "<td>010-2020 Bassetlaw outlet</td>\n",
       "<td style='text-align: right'>150</td>\n",
       "</tr>\n",
       "</tbody>\n",
       "</table>\n",
       "<p><strong>...</strong></p>"
      ],
      "text/plain": [
       "+------+-------+-----+------+-----------------------------+--------------------+-----------------------------+-----+\n",
       "| year | month | day | hour | product                     | amount_in_gbp      | branch                      | qty |\n",
       "+======+=======+=====+======+=============================+====================+=============================+=====+\n",
       "| 2010 |     1 |   9 |    0 | 'chocolate twist'           |              145.6 | '010-2020 Bassetlaw outlet' | 182 |\n",
       "+------+-------+-----+------+-----------------------------+--------------------+-----------------------------+-----+\n",
       "| 2010 |     1 |   9 |    0 | 'plastic sunshades'         |              313.6 | '010-2020 Bassetlaw outlet' |  98 |\n",
       "+------+-------+-----+------+-----------------------------+--------------------+-----------------------------+-----+\n",
       "| 2010 |     1 |   9 |    0 | 'lg washing machine'        |            12080.0 | '010-2020 Bassetlaw outlet' | 151 |\n",
       "+------+-------+-----+------+-----------------------------+--------------------+-----------------------------+-----+\n",
       "| 2010 |     1 |   9 |    0 | 'fresh whole chicken'       |              257.6 | '010-2020 Bassetlaw outlet' | 230 |\n",
       "+------+-------+-----+------+-----------------------------+--------------------+-----------------------------+-----+\n",
       "| 2010 |     1 |   9 |    0 | 'free range large eggs x12' | 180.00000000000003 | '010-2020 Bassetlaw outlet' | 150 |\n",
       "+------+-------+-----+------+-----------------------------+--------------------+-----------------------------+-----+\n",
       "..."
      ]
     },
     "execution_count": 21,
     "metadata": {},
     "output_type": "execute_result"
    }
   ],
   "source": [
    "'''4 convert to numbers'''\n",
    "complete_sales_df = etl.addfield(complete_sales_df, 'qty', lambda row: int(row.quantity))\n",
    "complete_sales_df = etl.cutout(complete_sales_df, 'quantity')\n",
    "complete_sales_df\n",
    "\n"
   ]
  },
  {
   "cell_type": "code",
   "execution_count": 22,
   "metadata": {},
   "outputs": [],
   "source": [
    "# save to csv\n",
    "etl.tocsv(complete_sales_df,'test.csv')"
   ]
  },
  {
   "cell_type": "code",
   "execution_count": 23,
   "metadata": {},
   "outputs": [
    {
     "name": "stdout",
     "output_type": "stream",
     "text": [
      "         year  month  day  hour                    product  amount_in_gbp  \\\n",
      "0        2010      1    9     0            chocolate twist         145.60   \n",
      "1        2010      1    9     0          plastic sunshades         313.60   \n",
      "2        2010      1    9     0         lg washing machine       12080.00   \n",
      "3        2010      1    9     0        fresh whole chicken         257.60   \n",
      "4        2010      1    9     0  free range large eggs x12         180.00   \n",
      "...       ...    ...  ...   ...                        ...            ...   \n",
      "2233020  2020     12   22    23   hotpoint washing machine       10560.00   \n",
      "2233021  2020     12   22    23            pain au raisins         110.50   \n",
      "2233022  2020     12   22    23                denim jeams         600.00   \n",
      "2233023  2020     12   22    23                  aubergine          22.77   \n",
      "2233024  2020     12   22    23        mild cheddar cheese         334.40   \n",
      "\n",
      "                               branch  qty  \n",
      "0           010-2020 Bassetlaw outlet  182  \n",
      "1           010-2020 Bassetlaw outlet   98  \n",
      "2           010-2020 Bassetlaw outlet  151  \n",
      "3           010-2020 Bassetlaw outlet  230  \n",
      "4           010-2020 Bassetlaw outlet  150  \n",
      "...                               ...  ...  \n",
      "2233020  010-2020 Castle Point outlet  132  \n",
      "2233021  010-2020 Castle Point outlet  221  \n",
      "2233022  010-2020 Castle Point outlet   20  \n",
      "2233023  010-2020 Castle Point outlet   33  \n",
      "2233024  010-2020 Castle Point outlet  152  \n",
      "\n",
      "[2233025 rows x 8 columns]\n"
     ]
    }
   ],
   "source": [
    "'''5 convert back to dataframe'''\n",
    "complete_sales_df = etl.todataframe(complete_sales_df)\n",
    "print(complete_sales_df)"
   ]
  },
  {
   "cell_type": "code",
   "execution_count": 24,
   "metadata": {},
   "outputs": [
    {
     "name": "stdout",
     "output_type": "stream",
     "text": [
      "                                    year    month       day      hour  \\\n",
      "branch                                                                  \n",
      "010-2020 Bassetlaw outlet     2256117614  7236424  16237355  12880923   \n",
      "010-2020 Castle Point outlet  2243469016  7261112  16083566  12697781   \n",
      "\n",
      "                              amount_in_gbp        qty  \n",
      "branch                                                  \n",
      "010-2020 Bassetlaw outlet      1.383844e+10  131010110  \n",
      "010-2020 Castle Point outlet   1.376304e+10  130164584  \n"
     ]
    }
   ],
   "source": [
    "'''6 groupby'''\n",
    "complete_sales_df = complete_sales_df.groupby('branch').sum()\n",
    "\n",
    "print(complete_sales_df)"
   ]
  },
  {
   "cell_type": "code",
   "execution_count": 25,
   "metadata": {},
   "outputs": [
    {
     "data": {
      "text/plain": [
       "\"\\ncan use etl cut to cut out only columns that I am going to use\\nmanufacturers_table = etl.transform.cut(purchases_table, 'mnf')\\n\""
      ]
     },
     "execution_count": 25,
     "metadata": {},
     "output_type": "execute_result"
    }
   ],
   "source": [
    "'''\n",
    "can use etl cut to cut out only columns that I am going to use\n",
    "manufacturers_table = etl.transform.cut(purchases_table, 'mnf')\n",
    "'''"
   ]
  },
  {
   "cell_type": "code",
   "execution_count": 26,
   "metadata": {},
   "outputs": [],
   "source": [
    "# df_csv_merged_grouped.shape\n",
    "# df_csv_merged_grouped = df_csv_merged.groupby(['product', 'filename']).sum('quantity')"
   ]
  },
  {
   "cell_type": "code",
   "execution_count": 27,
   "metadata": {},
   "outputs": [],
   "source": [
    "# # JSON FILES APPENDING TO A SINGLE DATAFRAME\n",
    "# path = \"branch_data/sales_by_branch\"\n",
    "\n",
    "# all_json_files = glob.glob(os.path.join(path, \"*.json\"))\n",
    "\n",
    "# df_from_each_json_file = (pd\n",
    "#                     .read_json(file)\n",
    "#                     .rename(columns={\n",
    "#                         'total_quantity': 'quantity', \n",
    "#                         'quantity_purchased': 'quantity',\n",
    "#                         'total_quantity_purchased': 'quantity',\n",
    "#                         'item': 'product',\n",
    "#                         'sku': 'product'\n",
    "#                         })\n",
    "#                     .assign(filename = file[38:][:-5]) \n",
    "#                     for file in all_json_files )\n",
    "\n",
    "# df_from_each_json_file\n",
    "\n",
    "# df_json_merged = pd.concat(df_from_each_json_file, ignore_index=True)\n",
    "\n",
    "# df_json_merged.head()"
   ]
  },
  {
   "cell_type": "code",
   "execution_count": 28,
   "metadata": {},
   "outputs": [],
   "source": [
    "# # adding city column by converting filename\n",
    "\n",
    "# '''\n",
    "# need do this after cleaning data\n",
    "# '''\n",
    "\n",
    "# converted_branch_name = []\n",
    "\n",
    "# for line in complete_sales_df.filename:\n",
    "#     line = line.replace('_', ' ')\n",
    "#     converted_branch_name.append(line)\n",
    "\n",
    "# complete_sales_df = complete_sales_df.assign(branch = converted_branch_name)\n",
    "# complete_sales_df"
   ]
  }
 ],
 "metadata": {
  "interpreter": {
   "hash": "750956acfe3e797a2cfb6286c1ff4c2da5e7982e4e800e57feede9471db7afd0"
  },
  "kernelspec": {
   "display_name": "Python 3.8.10 64-bit (windows store)",
   "language": "python",
   "name": "python3"
  },
  "language_info": {
   "codemirror_mode": {
    "name": "ipython",
    "version": 3
   },
   "file_extension": ".py",
   "mimetype": "text/x-python",
   "name": "python",
   "nbconvert_exporter": "python",
   "pygments_lexer": "ipython3",
   "version": "3.8.10"
  },
  "orig_nbformat": 4
 },
 "nbformat": 4,
 "nbformat_minor": 2
}
