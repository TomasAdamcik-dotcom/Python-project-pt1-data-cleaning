{
 "cells": [
  {
   "cell_type": "code",
   "execution_count": 92,
   "metadata": {},
   "outputs": [
    {
     "name": "stderr",
     "output_type": "stream",
     "text": [
      "WARNING: You are using pip version 21.1.1; however, version 21.3.1 is available.\n",
      "You should consider upgrading via the 'C:\\Users\\adamc\\AppData\\Local\\Microsoft\\WindowsApps\\PythonSoftwareFoundation.Python.3.8_qbz5n2kfra8p0\\python.exe -m pip install --upgrade pip' command.\n"
     ]
    },
    {
     "name": "stdout",
     "output_type": "stream",
     "text": [
      "Requirement already satisfied: pandas in c:\\users\\adamc\\appdata\\local\\packages\\pythonsoftwarefoundation.python.3.8_qbz5n2kfra8p0\\localcache\\local-packages\\python38\\site-packages (1.3.4)\n",
      "Requirement already satisfied: numpy>=1.17.3 in c:\\users\\adamc\\appdata\\local\\packages\\pythonsoftwarefoundation.python.3.8_qbz5n2kfra8p0\\localcache\\local-packages\\python38\\site-packages (from pandas) (1.21.4)\n",
      "Requirement already satisfied: python-dateutil>=2.7.3 in c:\\users\\adamc\\appdata\\local\\packages\\pythonsoftwarefoundation.python.3.8_qbz5n2kfra8p0\\localcache\\local-packages\\python38\\site-packages (from pandas) (2.8.2)\n",
      "Requirement already satisfied: pytz>=2017.3 in c:\\users\\adamc\\appdata\\local\\packages\\pythonsoftwarefoundation.python.3.8_qbz5n2kfra8p0\\localcache\\local-packages\\python38\\site-packages (from pandas) (2021.3)\n",
      "Requirement already satisfied: six>=1.5 in c:\\users\\adamc\\appdata\\local\\packages\\pythonsoftwarefoundation.python.3.8_qbz5n2kfra8p0\\localcache\\local-packages\\python38\\site-packages (from python-dateutil>=2.7.3->pandas) (1.16.0)\n",
      "Requirement already satisfied: petl in c:\\users\\adamc\\appdata\\local\\packages\\pythonsoftwarefoundation.python.3.8_qbz5n2kfra8p0\\localcache\\local-packages\\python38\\site-packages (1.7.4)\n"
     ]
    },
    {
     "name": "stderr",
     "output_type": "stream",
     "text": [
      "WARNING: You are using pip version 21.1.1; however, version 21.3.1 is available.\n",
      "You should consider upgrading via the 'C:\\Users\\adamc\\AppData\\Local\\Microsoft\\WindowsApps\\PythonSoftwareFoundation.Python.3.8_qbz5n2kfra8p0\\python.exe -m pip install --upgrade pip' command.\n"
     ]
    }
   ],
   "source": [
    "# installs\n",
    "! pip install pandas\n",
    "! pip install petl\n"
   ]
  },
  {
   "cell_type": "code",
   "execution_count": 93,
   "metadata": {},
   "outputs": [],
   "source": [
    "# imports\n",
    "import pandas as pd\n",
    "import petl as etl"
   ]
  },
  {
   "cell_type": "markdown",
   "metadata": {},
   "source": [
    "1. Load CSV files to dataframes"
   ]
  },
  {
   "cell_type": "code",
   "execution_count": 94,
   "metadata": {},
   "outputs": [],
   "source": [
    "csv_files_data = pd.read_csv('data_output/1_csv_files_dataframe.csv')\n",
    "json_files_data = pd.read_csv('data_output/1_json_files_dataframe.csv')\n",
    "sales_df = csv_files_data.append(json_files_data)\n"
   ]
  },
  {
   "cell_type": "markdown",
   "metadata": {},
   "source": [
    "2. Prepare data for visual 1"
   ]
  },
  {
   "cell_type": "code",
   "execution_count": 95,
   "metadata": {},
   "outputs": [],
   "source": [
    "# a) group data\n",
    "\n",
    "sales_df_v1 = sales_df\n",
    "sales_df_v1 = sales_df_v1.groupby(['branch', 'product']).sum().reset_index()"
   ]
  },
  {
   "cell_type": "code",
   "execution_count": 96,
   "metadata": {},
   "outputs": [],
   "source": [
    "# b) convert to etl table and cut out not needed fields\n",
    "sales_df_v1 = etl.fromdataframe(sales_df_v1)\n",
    "sales_df_v1 = etl.transform.cutout(sales_df_v1, 'year', 'month', 'day', 'hour')"
   ]
  },
  {
   "cell_type": "code",
   "execution_count": 97,
   "metadata": {},
   "outputs": [],
   "source": [
    "# c) lookup region and county\n",
    "\n",
    "# branch list load\n",
    "branch_list = etl.fromxlsx('branch_data/branch_list.xlsx')\n",
    "branch_list = branch_list.rename({'branch_name': 'branch'})\n",
    "\n",
    "# branch list join\n",
    "sales_df_v1 = etl.outerjoin(sales_df_v1, branch_list)\n",
    "sales_df_v1 = etl.transform.cutout(sales_df_v1, 'established_on')"
   ]
  },
  {
   "cell_type": "code",
   "execution_count": 98,
   "metadata": {},
   "outputs": [],
   "source": [
    "# d) lookup product category\n",
    "\n",
    "# product list load\n",
    "product_list = etl.fromcsv('branch_data/products_list.csv')\n",
    "product_list=etl.transform.cut(product_list, 'product', 'category')\n",
    "\n",
    "# product list join\n",
    "sales_df_v1 = etl.rightjoin(sales_df_v1, product_list, 'product')"
   ]
  },
  {
   "cell_type": "code",
   "execution_count": 99,
   "metadata": {},
   "outputs": [],
   "source": [
    "# e) save to csv\n",
    "etl.tocsv(sales_df_v1, 'data_output/2_visuals_pt1.csv')"
   ]
  },
  {
   "cell_type": "markdown",
   "metadata": {},
   "source": [
    "3. Prepare data for visual 2"
   ]
  },
  {
   "cell_type": "code",
   "execution_count": 100,
   "metadata": {},
   "outputs": [],
   "source": [
    "# a) group data\n",
    "\n",
    "sales_df_v2 = sales_df\n",
    "sales_df_v2 = sales_df_v2.groupby(['branch']).sum().reset_index()"
   ]
  },
  {
   "cell_type": "code",
   "execution_count": 101,
   "metadata": {},
   "outputs": [],
   "source": [
    "# b) convert to etl table and cutout not needed columns\n",
    "sales_df_v2 = etl.fromdataframe(sales_df_v2)\n",
    "sales_df_v2 = etl.transform.cutout(sales_df_v2, 'year', 'month', 'day', 'hour')"
   ]
  },
  {
   "cell_type": "code",
   "execution_count": 102,
   "metadata": {},
   "outputs": [],
   "source": [
    "# c) lookup region and county\n",
    "\n",
    "# branch list load\n",
    "branch_list = etl.fromxlsx('branch_data/branch_list.xlsx')\n",
    "\n",
    "# branch list join\n",
    "sales_df_v2 = etl.outerjoin(sales_df_v2, branch_list, lkey='branch', rkey='branch_name')\n",
    "sales_df_v2 = etl.transform.cutout(sales_df_v2, 'established_on')"
   ]
  },
  {
   "cell_type": "code",
   "execution_count": 103,
   "metadata": {},
   "outputs": [],
   "source": [
    "# d) save to csv\n",
    "etl.tocsv(sales_df_v2, 'data_output/2_visuals_pt2.csv')"
   ]
  },
  {
   "cell_type": "markdown",
   "metadata": {},
   "source": [
    "4. Prepare data for visual 3"
   ]
  },
  {
   "cell_type": "code",
   "execution_count": 104,
   "metadata": {},
   "outputs": [],
   "source": [
    "# a) group and sum data\n",
    "sales_df_v3 = sales_df\n",
    "sales_df_v3 = sales_df_v3.groupby(['branch', 'year', 'month', 'day', 'hour']).sum().reset_index()"
   ]
  },
  {
   "cell_type": "code",
   "execution_count": 105,
   "metadata": {},
   "outputs": [],
   "source": [
    "# b) group by branch and get average\n",
    "sales_df_v3 = sales_df_v3.groupby(['branch']).mean().reset_index()"
   ]
  },
  {
   "cell_type": "code",
   "execution_count": 106,
   "metadata": {},
   "outputs": [],
   "source": [
    "# c) coutout (drop) columns \n",
    "sales_df_v3 = sales_df_v3.drop(['year', 'month', 'day', 'hour', 'qty'], axis=1)"
   ]
  },
  {
   "cell_type": "code",
   "execution_count": 107,
   "metadata": {},
   "outputs": [],
   "source": [
    "# d) save to csv\n",
    "sales_df_v3.to_csv('data_output/2_visuals_pt3.csv')"
   ]
  },
  {
   "cell_type": "markdown",
   "metadata": {},
   "source": [
    "5. Prepare data for visual 4"
   ]
  },
  {
   "cell_type": "code",
   "execution_count": 108,
   "metadata": {},
   "outputs": [],
   "source": [
    "# a) group data by branch\n",
    "sales_df_v4 = sales_df\n",
    "sales_df_v4 = sales_df_v4.drop(['year', 'month', 'day', 'hour', 'qty'], axis=1)\n",
    "sales_df_v4 = sales_df_v4.groupby('branch').sum().reset_index()"
   ]
  },
  {
   "cell_type": "code",
   "execution_count": 109,
   "metadata": {},
   "outputs": [],
   "source": [
    "# b) get total expenses by branch\n",
    "branch_expenses = pd.read_excel('branch_data/branch_expenses.xlsx')\n",
    "branch_expenses = branch_expenses.drop(['year', 'month', 'region', 'county', 'established_on'], axis=1)\n",
    "branch_expenses = branch_expenses.groupby('branch_name').sum().reset_index()"
   ]
  },
  {
   "cell_type": "code",
   "execution_count": 110,
   "metadata": {},
   "outputs": [],
   "source": [
    "# c) sum expenses and drop useless columns\n",
    "columns_list = ['operational_cost', 'staff_bonuses', 'misc_expenses', 'waste_cost']\n",
    "branch_expenses['total_expenses'] = branch_expenses[columns_list].sum(axis=1)\n",
    "branch_expenses = branch_expenses.drop(columns_list, axis=1)"
   ]
  },
  {
   "cell_type": "code",
   "execution_count": 111,
   "metadata": {},
   "outputs": [],
   "source": [
    "# d) join tables and extract profit, drop sales and expenses\n",
    "\n",
    "# convert to tables and join them\n",
    "branch_expenses = etl.fromdataframe(branch_expenses)\n",
    "sales_df_v4 = etl.fromdataframe(sales_df_v4)\n",
    "sales_df_v4 = etl.outerjoin(sales_df_v4, branch_expenses, lkey='branch', rkey='branch_name')\n",
    "\n",
    "# calculate profit column and cutout others\n",
    "sales_df_v4 = etl.addfield(sales_df_v4, 'profit', lambda row: float(row.amount_in_gbp) - float(row.total_expenses))\n",
    "sales_df_v4 = etl.cutout(sales_df_v4, 'amount_in_gbp', 'total_expenses')"
   ]
  },
  {
   "cell_type": "code",
   "execution_count": 112,
   "metadata": {},
   "outputs": [],
   "source": [
    "# e) save to CSV\n",
    "etl.tocsv(sales_df_v4, 'data_output/2_visuals_pt4.csv')"
   ]
  }
 ],
 "metadata": {
  "interpreter": {
   "hash": "750956acfe3e797a2cfb6286c1ff4c2da5e7982e4e800e57feede9471db7afd0"
  },
  "kernelspec": {
   "display_name": "Python 3.8.10 64-bit (windows store)",
   "language": "python",
   "name": "python3"
  },
  "language_info": {
   "codemirror_mode": {
    "name": "ipython",
    "version": 3
   },
   "file_extension": ".py",
   "mimetype": "text/x-python",
   "name": "python",
   "nbconvert_exporter": "python",
   "pygments_lexer": "ipython3",
   "version": "3.8.10"
  },
  "orig_nbformat": 4
 },
 "nbformat": 4,
 "nbformat_minor": 2
}
