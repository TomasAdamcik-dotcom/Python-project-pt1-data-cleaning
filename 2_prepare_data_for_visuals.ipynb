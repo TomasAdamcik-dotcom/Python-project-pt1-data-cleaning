{
 "cells": [
  {
   "cell_type": "code",
   "execution_count": 1,
   "metadata": {},
   "outputs": [
    {
     "name": "stdout",
     "output_type": "stream",
     "text": [
      "Requirement already satisfied: pandas in c:\\users\\adamc\\appdata\\local\\packages\\pythonsoftwarefoundation.python.3.8_qbz5n2kfra8p0\\localcache\\local-packages\\python38\\site-packages (1.3.4)\n",
      "Requirement already satisfied: python-dateutil>=2.7.3 in c:\\users\\adamc\\appdata\\local\\packages\\pythonsoftwarefoundation.python.3.8_qbz5n2kfra8p0\\localcache\\local-packages\\python38\\site-packages (from pandas) (2.8.2)\n",
      "Requirement already satisfied: numpy>=1.17.3 in c:\\users\\adamc\\appdata\\local\\packages\\pythonsoftwarefoundation.python.3.8_qbz5n2kfra8p0\\localcache\\local-packages\\python38\\site-packages (from pandas) (1.21.4)\n",
      "Requirement already satisfied: pytz>=2017.3 in c:\\users\\adamc\\appdata\\local\\packages\\pythonsoftwarefoundation.python.3.8_qbz5n2kfra8p0\\localcache\\local-packages\\python38\\site-packages (from pandas) (2021.3)\n",
      "Requirement already satisfied: six>=1.5 in c:\\users\\adamc\\appdata\\local\\packages\\pythonsoftwarefoundation.python.3.8_qbz5n2kfra8p0\\localcache\\local-packages\\python38\\site-packages (from python-dateutil>=2.7.3->pandas) (1.16.0)\n"
     ]
    },
    {
     "name": "stderr",
     "output_type": "stream",
     "text": [
      "WARNING: You are using pip version 21.1.1; however, version 21.3.1 is available.\n",
      "You should consider upgrading via the 'C:\\Users\\adamc\\AppData\\Local\\Microsoft\\WindowsApps\\PythonSoftwareFoundation.Python.3.8_qbz5n2kfra8p0\\python.exe -m pip install --upgrade pip' command.\n"
     ]
    },
    {
     "name": "stdout",
     "output_type": "stream",
     "text": [
      "Requirement already satisfied: petl in c:\\users\\adamc\\appdata\\local\\packages\\pythonsoftwarefoundation.python.3.8_qbz5n2kfra8p0\\localcache\\local-packages\\python38\\site-packages (1.7.4)\n"
     ]
    },
    {
     "name": "stderr",
     "output_type": "stream",
     "text": [
      "WARNING: You are using pip version 21.1.1; however, version 21.3.1 is available.\n",
      "You should consider upgrading via the 'C:\\Users\\adamc\\AppData\\Local\\Microsoft\\WindowsApps\\PythonSoftwareFoundation.Python.3.8_qbz5n2kfra8p0\\python.exe -m pip install --upgrade pip' command.\n",
      "ERROR: Could not find a version that satisfies the requirement glob (from versions: none)\n",
      "ERROR: No matching distribution found for glob\n",
      "WARNING: You are using pip version 21.1.1; however, version 21.3.1 is available.\n",
      "You should consider upgrading via the 'C:\\Users\\adamc\\AppData\\Local\\Microsoft\\WindowsApps\\PythonSoftwareFoundation.Python.3.8_qbz5n2kfra8p0\\python.exe -m pip install --upgrade pip' command.\n"
     ]
    }
   ],
   "source": [
    "! pip install pandas\n",
    "! pip install petl\n",
    "! pip install glob\n"
   ]
  },
  {
   "cell_type": "code",
   "execution_count": 2,
   "metadata": {},
   "outputs": [],
   "source": [
    "import pandas as pd\n",
    "import petl as etl\n",
    "import os\n",
    "import glob"
   ]
  },
  {
   "cell_type": "markdown",
   "metadata": {},
   "source": [
    "1. Load CSV files to dataframes"
   ]
  },
  {
   "cell_type": "code",
   "execution_count": 3,
   "metadata": {},
   "outputs": [],
   "source": [
    "csv_files_data = pd.read_csv('data_output/1_csv_files_dataframe.csv')\n",
    "json_files_data = pd.read_csv('data_output/1_json_files_dataframe.csv')\n",
    "sales_df = csv_files_data.append(json_files_data)\n"
   ]
  },
  {
   "cell_type": "markdown",
   "metadata": {},
   "source": [
    "2. Prepare data for visual 1"
   ]
  },
  {
   "cell_type": "code",
   "execution_count": 4,
   "metadata": {},
   "outputs": [
    {
     "data": {
      "text/html": [
       "<div>\n",
       "<style scoped>\n",
       "    .dataframe tbody tr th:only-of-type {\n",
       "        vertical-align: middle;\n",
       "    }\n",
       "\n",
       "    .dataframe tbody tr th {\n",
       "        vertical-align: top;\n",
       "    }\n",
       "\n",
       "    .dataframe thead th {\n",
       "        text-align: right;\n",
       "    }\n",
       "</style>\n",
       "<table border=\"1\" class=\"dataframe\">\n",
       "  <thead>\n",
       "    <tr style=\"text-align: right;\">\n",
       "      <th></th>\n",
       "      <th>branch</th>\n",
       "      <th>product</th>\n",
       "      <th>year</th>\n",
       "      <th>month</th>\n",
       "      <th>day</th>\n",
       "      <th>hour</th>\n",
       "      <th>amount_in_gbp</th>\n",
       "      <th>qty</th>\n",
       "    </tr>\n",
       "  </thead>\n",
       "  <tbody>\n",
       "    <tr>\n",
       "      <th>0</th>\n",
       "      <td>Armagh outlet</td>\n",
       "      <td>21 day mature ribeye steak</td>\n",
       "      <td>14680393</td>\n",
       "      <td>47737</td>\n",
       "      <td>107311</td>\n",
       "      <td>82749</td>\n",
       "      <td>2727963.140</td>\n",
       "      <td>847509</td>\n",
       "    </tr>\n",
       "    <tr>\n",
       "      <th>1</th>\n",
       "      <td>Armagh outlet</td>\n",
       "      <td>21 day mature rump steak</td>\n",
       "      <td>14537196</td>\n",
       "      <td>47277</td>\n",
       "      <td>104585</td>\n",
       "      <td>83473</td>\n",
       "      <td>2478042.176</td>\n",
       "      <td>842220</td>\n",
       "    </tr>\n",
       "    <tr>\n",
       "      <th>2</th>\n",
       "      <td>Armagh outlet</td>\n",
       "      <td>21 day mature sirlion steak</td>\n",
       "      <td>14638462</td>\n",
       "      <td>48033</td>\n",
       "      <td>105978</td>\n",
       "      <td>83492</td>\n",
       "      <td>2641329.780</td>\n",
       "      <td>844288</td>\n",
       "    </tr>\n",
       "    <tr>\n",
       "      <th>3</th>\n",
       "      <td>Armagh outlet</td>\n",
       "      <td>Almond milk</td>\n",
       "      <td>14535049</td>\n",
       "      <td>46865</td>\n",
       "      <td>104482</td>\n",
       "      <td>82188</td>\n",
       "      <td>1486600.052</td>\n",
       "      <td>851103</td>\n",
       "    </tr>\n",
       "    <tr>\n",
       "      <th>4</th>\n",
       "      <td>Armagh outlet</td>\n",
       "      <td>Blueberry yoghurt</td>\n",
       "      <td>14882113</td>\n",
       "      <td>48710</td>\n",
       "      <td>106852</td>\n",
       "      <td>85092</td>\n",
       "      <td>875294.684</td>\n",
       "      <td>864310</td>\n",
       "    </tr>\n",
       "  </tbody>\n",
       "</table>\n",
       "</div>"
      ],
      "text/plain": [
       "          branch                      product      year  month     day   hour  \\\n",
       "0  Armagh outlet   21 day mature ribeye steak  14680393  47737  107311  82749   \n",
       "1  Armagh outlet     21 day mature rump steak  14537196  47277  104585  83473   \n",
       "2  Armagh outlet  21 day mature sirlion steak  14638462  48033  105978  83492   \n",
       "3  Armagh outlet                  Almond milk  14535049  46865  104482  82188   \n",
       "4  Armagh outlet            Blueberry yoghurt  14882113  48710  106852  85092   \n",
       "\n",
       "   amount_in_gbp     qty  \n",
       "0    2727963.140  847509  \n",
       "1    2478042.176  842220  \n",
       "2    2641329.780  844288  \n",
       "3    1486600.052  851103  \n",
       "4     875294.684  864310  "
      ]
     },
     "execution_count": 4,
     "metadata": {},
     "output_type": "execute_result"
    }
   ],
   "source": [
    "# a) group data\n",
    "\n",
    "sales_df_v1 = sales_df\n",
    "sales_df_v1 = sales_df_v1.groupby(['branch', 'product']).sum().reset_index()"
   ]
  },
  {
   "cell_type": "code",
   "execution_count": 5,
   "metadata": {},
   "outputs": [],
   "source": [
    "# b) convert to etl table and cut out not needed fields\n",
    "sales_df_v1 = etl.fromdataframe(sales_df_v1)\n",
    "sales_df_v1 = etl.transform.cutout(sales_df_v1, 'year', 'month', 'day', 'hour')"
   ]
  },
  {
   "cell_type": "code",
   "execution_count": 6,
   "metadata": {},
   "outputs": [],
   "source": [
    "# c) lookup region and county\n",
    "\n",
    "# branch list load\n",
    "branch_list = etl.fromxlsx('branch_data/branch_list.xlsx')\n",
    "branch_list = branch_list.rename({'branch_name': 'branch'})\n",
    "\n",
    "# branch list join\n",
    "sales_df_v1 = etl.outerjoin(sales_df_v1, branch_list)\n",
    "sales_df_v1 = etl.transform.cutout(sales_df_v1, 'established_on')"
   ]
  },
  {
   "cell_type": "code",
   "execution_count": 7,
   "metadata": {},
   "outputs": [],
   "source": [
    "# d) lookup product category\n",
    "\n",
    "# product list load\n",
    "product_list = etl.fromcsv('branch_data/products_list.csv')\n",
    "product_list=etl.transform.cut(product_list, 'product', 'category')\n",
    "\n",
    "# product list join\n",
    "sales_df_v1 = etl.rightjoin(sales_df_v1, product_list, 'product')"
   ]
  },
  {
   "cell_type": "code",
   "execution_count": 8,
   "metadata": {},
   "outputs": [],
   "source": [
    "# e) save to csv\n",
    "etl.tocsv(sales_df_v1, 'data_output/2_visuals_pt1.csv')"
   ]
  },
  {
   "cell_type": "markdown",
   "metadata": {},
   "source": [
    "3. Prepare data for visual 2"
   ]
  },
  {
   "cell_type": "code",
   "execution_count": 19,
   "metadata": {},
   "outputs": [
    {
     "data": {
      "text/html": [
       "<div>\n",
       "<style scoped>\n",
       "    .dataframe tbody tr th:only-of-type {\n",
       "        vertical-align: middle;\n",
       "    }\n",
       "\n",
       "    .dataframe tbody tr th {\n",
       "        vertical-align: top;\n",
       "    }\n",
       "\n",
       "    .dataframe thead th {\n",
       "        text-align: right;\n",
       "    }\n",
       "</style>\n",
       "<table border=\"1\" class=\"dataframe\">\n",
       "  <thead>\n",
       "    <tr style=\"text-align: right;\">\n",
       "      <th></th>\n",
       "      <th>branch</th>\n",
       "      <th>year</th>\n",
       "      <th>month</th>\n",
       "      <th>day</th>\n",
       "      <th>hour</th>\n",
       "      <th>amount_in_gbp</th>\n",
       "      <th>qty</th>\n",
       "    </tr>\n",
       "  </thead>\n",
       "  <tbody>\n",
       "    <tr>\n",
       "      <th>0</th>\n",
       "      <td>Armagh outlet</td>\n",
       "      <td>1815562950</td>\n",
       "      <td>5913261</td>\n",
       "      <td>13164158</td>\n",
       "      <td>10324665</td>\n",
       "      <td>1.135290e+10</td>\n",
       "      <td>105239104</td>\n",
       "    </tr>\n",
       "    <tr>\n",
       "      <th>1</th>\n",
       "      <td>Ballymoney store</td>\n",
       "      <td>1828570261</td>\n",
       "      <td>5910767</td>\n",
       "      <td>12988533</td>\n",
       "      <td>10447031</td>\n",
       "      <td>1.145031e+10</td>\n",
       "      <td>106169826</td>\n",
       "    </tr>\n",
       "    <tr>\n",
       "      <th>2</th>\n",
       "      <td>Bargoed outlet</td>\n",
       "      <td>1830846791</td>\n",
       "      <td>5881006</td>\n",
       "      <td>13414310</td>\n",
       "      <td>10433361</td>\n",
       "      <td>1.148845e+10</td>\n",
       "      <td>106212042</td>\n",
       "    </tr>\n",
       "    <tr>\n",
       "      <th>3</th>\n",
       "      <td>Barry outlet</td>\n",
       "      <td>2048262992</td>\n",
       "      <td>6568293</td>\n",
       "      <td>14917520</td>\n",
       "      <td>11665778</td>\n",
       "      <td>1.269032e+10</td>\n",
       "      <td>118919062</td>\n",
       "    </tr>\n",
       "    <tr>\n",
       "      <th>4</th>\n",
       "      <td>Bassetlaw outlet</td>\n",
       "      <td>2256117614</td>\n",
       "      <td>7236424</td>\n",
       "      <td>16237355</td>\n",
       "      <td>12880923</td>\n",
       "      <td>1.383844e+10</td>\n",
       "      <td>131010110</td>\n",
       "    </tr>\n",
       "  </tbody>\n",
       "</table>\n",
       "</div>"
      ],
      "text/plain": [
       "             branch        year    month       day      hour  amount_in_gbp  \\\n",
       "0     Armagh outlet  1815562950  5913261  13164158  10324665   1.135290e+10   \n",
       "1  Ballymoney store  1828570261  5910767  12988533  10447031   1.145031e+10   \n",
       "2    Bargoed outlet  1830846791  5881006  13414310  10433361   1.148845e+10   \n",
       "3      Barry outlet  2048262992  6568293  14917520  11665778   1.269032e+10   \n",
       "4  Bassetlaw outlet  2256117614  7236424  16237355  12880923   1.383844e+10   \n",
       "\n",
       "         qty  \n",
       "0  105239104  \n",
       "1  106169826  \n",
       "2  106212042  \n",
       "3  118919062  \n",
       "4  131010110  "
      ]
     },
     "execution_count": 19,
     "metadata": {},
     "output_type": "execute_result"
    }
   ],
   "source": [
    "# a) group data\n",
    "\n",
    "sales_df_v2 = sales_df\n",
    "sales_df_v2 = sales_df_v2.groupby(['branch']).sum().reset_index()"
   ]
  },
  {
   "cell_type": "code",
   "execution_count": 20,
   "metadata": {},
   "outputs": [
    {
     "data": {
      "text/html": [
       "<table class='petl'>\n",
       "<thead>\n",
       "<tr>\n",
       "<th>branch</th>\n",
       "<th>amount_in_gbp</th>\n",
       "<th>qty</th>\n",
       "</tr>\n",
       "</thead>\n",
       "<tbody>\n",
       "<tr>\n",
       "<td>Armagh outlet</td>\n",
       "<td style='text-align: right'>11352899748.7514</td>\n",
       "<td style='text-align: right'>105239104</td>\n",
       "</tr>\n",
       "<tr>\n",
       "<td>Ballymoney store</td>\n",
       "<td style='text-align: right'>11450307515.861</td>\n",
       "<td style='text-align: right'>106169826</td>\n",
       "</tr>\n",
       "<tr>\n",
       "<td>Bargoed outlet</td>\n",
       "<td style='text-align: right'>11488453160.198</td>\n",
       "<td style='text-align: right'>106212042</td>\n",
       "</tr>\n",
       "<tr>\n",
       "<td>Barry outlet</td>\n",
       "<td style='text-align: right'>12690322614.757</td>\n",
       "<td style='text-align: right'>118919062</td>\n",
       "</tr>\n",
       "<tr>\n",
       "<td>Bassetlaw outlet</td>\n",
       "<td style='text-align: right'>13838435781.5576</td>\n",
       "<td style='text-align: right'>131010110</td>\n",
       "</tr>\n",
       "</tbody>\n",
       "</table>\n",
       "<p><strong>...</strong></p>"
      ],
      "text/plain": [
       "+--------------------+------------------+-----------+\n",
       "| branch             | amount_in_gbp    | qty       |\n",
       "+====================+==================+===========+\n",
       "| 'Armagh outlet'    | 11352899748.7514 | 105239104 |\n",
       "+--------------------+------------------+-----------+\n",
       "| 'Ballymoney store' |  11450307515.861 | 106169826 |\n",
       "+--------------------+------------------+-----------+\n",
       "| 'Bargoed outlet'   |  11488453160.198 | 106212042 |\n",
       "+--------------------+------------------+-----------+\n",
       "| 'Barry outlet'     |  12690322614.757 | 118919062 |\n",
       "+--------------------+------------------+-----------+\n",
       "| 'Bassetlaw outlet' | 13838435781.5576 | 131010110 |\n",
       "+--------------------+------------------+-----------+\n",
       "..."
      ]
     },
     "execution_count": 20,
     "metadata": {},
     "output_type": "execute_result"
    }
   ],
   "source": [
    "# b) convert to etl table and cutout not needed columns\n",
    "sales_df_v2 = etl.fromdataframe(sales_df_v2)\n",
    "sales_df_v2 = etl.transform.cutout(sales_df_v2, 'year', 'month', 'day', 'hour')"
   ]
  },
  {
   "cell_type": "code",
   "execution_count": 21,
   "metadata": {},
   "outputs": [
    {
     "name": "stdout",
     "output_type": "stream",
     "text": [
      "+------------------+------------------+-----------+------------------+------------+\n",
      "| branch           | amount_in_gbp    | qty       | region           | county     |\n",
      "+==================+==================+===========+==================+============+\n",
      "| Armagh outlet    | 11352899748.7514 | 105239104 | Northern Ireland | Armagh     |\n",
      "+------------------+------------------+-----------+------------------+------------+\n",
      "| Ballymoney store |  11450307515.861 | 106169826 | Northern Ireland | Ballymoney |\n",
      "+------------------+------------------+-----------+------------------+------------+\n",
      "| Bargoed outlet   |  11488453160.198 | 106212042 | Wales            | Bargoed    |\n",
      "+------------------+------------------+-----------+------------------+------------+\n",
      "| Barry outlet     |  12690322614.757 | 118919062 | Wales            | Barry      |\n",
      "+------------------+------------------+-----------+------------------+------------+\n",
      "| Bassetlaw outlet | 13838435781.5576 | 131010110 | East Midlands    | Bassetlaw  |\n",
      "+------------------+------------------+-----------+------------------+------------+\n",
      "\n"
     ]
    }
   ],
   "source": [
    "# c) lookup region and county\n",
    "\n",
    "# branch list load\n",
    "branch_list = etl.fromxlsx('branch_data/branch_list.xlsx')\n",
    "\n",
    "# branch list join\n",
    "sales_df_v2 = etl.outerjoin(sales_df_v2, branch_list, lkey='branch', rkey='branch_name')\n",
    "sales_df_v2 = etl.transform.cutout(sales_df_v2, 'established_on')"
   ]
  },
  {
   "cell_type": "code",
   "execution_count": 22,
   "metadata": {},
   "outputs": [],
   "source": [
    "# d) save to csv\n",
    "etl.tocsv(sales_df_v2, 'data_output/2_visuals_pt2.csv')"
   ]
  },
  {
   "cell_type": "markdown",
   "metadata": {},
   "source": [
    "4. Prepare data for visual 3"
   ]
  },
  {
   "cell_type": "code",
   "execution_count": 34,
   "metadata": {},
   "outputs": [
    {
     "data": {
      "text/html": [
       "<div>\n",
       "<style scoped>\n",
       "    .dataframe tbody tr th:only-of-type {\n",
       "        vertical-align: middle;\n",
       "    }\n",
       "\n",
       "    .dataframe tbody tr th {\n",
       "        vertical-align: top;\n",
       "    }\n",
       "\n",
       "    .dataframe thead th {\n",
       "        text-align: right;\n",
       "    }\n",
       "</style>\n",
       "<table border=\"1\" class=\"dataframe\">\n",
       "  <thead>\n",
       "    <tr style=\"text-align: right;\">\n",
       "      <th></th>\n",
       "      <th>branch</th>\n",
       "      <th>year</th>\n",
       "      <th>month</th>\n",
       "      <th>day</th>\n",
       "      <th>hour</th>\n",
       "      <th>amount_in_gbp</th>\n",
       "      <th>qty</th>\n",
       "    </tr>\n",
       "  </thead>\n",
       "  <tbody>\n",
       "    <tr>\n",
       "      <th>0</th>\n",
       "      <td>Armagh outlet</td>\n",
       "      <td>2012</td>\n",
       "      <td>1</td>\n",
       "      <td>2</td>\n",
       "      <td>16</td>\n",
       "      <td>6.807334e+06</td>\n",
       "      <td>80196</td>\n",
       "    </tr>\n",
       "    <tr>\n",
       "      <th>1</th>\n",
       "      <td>Armagh outlet</td>\n",
       "      <td>2012</td>\n",
       "      <td>1</td>\n",
       "      <td>7</td>\n",
       "      <td>18</td>\n",
       "      <td>1.603301e+06</td>\n",
       "      <td>7032</td>\n",
       "    </tr>\n",
       "    <tr>\n",
       "      <th>2</th>\n",
       "      <td>Armagh outlet</td>\n",
       "      <td>2012</td>\n",
       "      <td>1</td>\n",
       "      <td>9</td>\n",
       "      <td>13</td>\n",
       "      <td>3.229247e+06</td>\n",
       "      <td>34377</td>\n",
       "    </tr>\n",
       "    <tr>\n",
       "      <th>3</th>\n",
       "      <td>Armagh outlet</td>\n",
       "      <td>2012</td>\n",
       "      <td>1</td>\n",
       "      <td>10</td>\n",
       "      <td>0</td>\n",
       "      <td>5.724104e+06</td>\n",
       "      <td>61828</td>\n",
       "    </tr>\n",
       "    <tr>\n",
       "      <th>4</th>\n",
       "      <td>Armagh outlet</td>\n",
       "      <td>2012</td>\n",
       "      <td>1</td>\n",
       "      <td>11</td>\n",
       "      <td>8</td>\n",
       "      <td>3.626819e+06</td>\n",
       "      <td>47488</td>\n",
       "    </tr>\n",
       "  </tbody>\n",
       "</table>\n",
       "</div>"
      ],
      "text/plain": [
       "          branch  year  month  day  hour  amount_in_gbp    qty\n",
       "0  Armagh outlet  2012      1    2    16   6.807334e+06  80196\n",
       "1  Armagh outlet  2012      1    7    18   1.603301e+06   7032\n",
       "2  Armagh outlet  2012      1    9    13   3.229247e+06  34377\n",
       "3  Armagh outlet  2012      1   10     0   5.724104e+06  61828\n",
       "4  Armagh outlet  2012      1   11     8   3.626819e+06  47488"
      ]
     },
     "execution_count": 34,
     "metadata": {},
     "output_type": "execute_result"
    }
   ],
   "source": [
    "# a) group and sum data\n",
    "sales_df_v3 = sales_df\n",
    "sales_df_v3 = sales_df_v3.groupby(['branch', 'year', 'month', 'day', 'hour']).sum().reset_index()"
   ]
  },
  {
   "cell_type": "code",
   "execution_count": 35,
   "metadata": {},
   "outputs": [
    {
     "data": {
      "text/html": [
       "<div>\n",
       "<style scoped>\n",
       "    .dataframe tbody tr th:only-of-type {\n",
       "        vertical-align: middle;\n",
       "    }\n",
       "\n",
       "    .dataframe tbody tr th {\n",
       "        vertical-align: top;\n",
       "    }\n",
       "\n",
       "    .dataframe thead th {\n",
       "        text-align: right;\n",
       "    }\n",
       "</style>\n",
       "<table border=\"1\" class=\"dataframe\">\n",
       "  <thead>\n",
       "    <tr style=\"text-align: right;\">\n",
       "      <th></th>\n",
       "      <th>branch</th>\n",
       "      <th>year</th>\n",
       "      <th>month</th>\n",
       "      <th>day</th>\n",
       "      <th>hour</th>\n",
       "      <th>amount_in_gbp</th>\n",
       "      <th>qty</th>\n",
       "    </tr>\n",
       "  </thead>\n",
       "  <tbody>\n",
       "    <tr>\n",
       "      <th>0</th>\n",
       "      <td>Armagh outlet</td>\n",
       "      <td>2016.0</td>\n",
       "      <td>6.5</td>\n",
       "      <td>14.522762</td>\n",
       "      <td>11.5</td>\n",
       "      <td>4.379977e+06</td>\n",
       "      <td>40601.506173</td>\n",
       "    </tr>\n",
       "    <tr>\n",
       "      <th>1</th>\n",
       "      <td>Ballymoney store</td>\n",
       "      <td>2016.0</td>\n",
       "      <td>6.5</td>\n",
       "      <td>14.283179</td>\n",
       "      <td>11.5</td>\n",
       "      <td>4.417557e+06</td>\n",
       "      <td>40960.581019</td>\n",
       "    </tr>\n",
       "    <tr>\n",
       "      <th>2</th>\n",
       "      <td>Bargoed outlet</td>\n",
       "      <td>2016.0</td>\n",
       "      <td>6.5</td>\n",
       "      <td>14.727623</td>\n",
       "      <td>11.5</td>\n",
       "      <td>4.432274e+06</td>\n",
       "      <td>40976.868056</td>\n",
       "    </tr>\n",
       "    <tr>\n",
       "      <th>3</th>\n",
       "      <td>Barry outlet</td>\n",
       "      <td>2015.5</td>\n",
       "      <td>6.5</td>\n",
       "      <td>14.556597</td>\n",
       "      <td>11.5</td>\n",
       "      <td>4.406362e+06</td>\n",
       "      <td>41291.340972</td>\n",
       "    </tr>\n",
       "    <tr>\n",
       "      <th>4</th>\n",
       "      <td>Bassetlaw outlet</td>\n",
       "      <td>2015.0</td>\n",
       "      <td>6.5</td>\n",
       "      <td>14.530934</td>\n",
       "      <td>11.5</td>\n",
       "      <td>4.368193e+06</td>\n",
       "      <td>41354.201389</td>\n",
       "    </tr>\n",
       "  </tbody>\n",
       "</table>\n",
       "</div>"
      ],
      "text/plain": [
       "             branch    year  month        day  hour  amount_in_gbp  \\\n",
       "0     Armagh outlet  2016.0    6.5  14.522762  11.5   4.379977e+06   \n",
       "1  Ballymoney store  2016.0    6.5  14.283179  11.5   4.417557e+06   \n",
       "2    Bargoed outlet  2016.0    6.5  14.727623  11.5   4.432274e+06   \n",
       "3      Barry outlet  2015.5    6.5  14.556597  11.5   4.406362e+06   \n",
       "4  Bassetlaw outlet  2015.0    6.5  14.530934  11.5   4.368193e+06   \n",
       "\n",
       "            qty  \n",
       "0  40601.506173  \n",
       "1  40960.581019  \n",
       "2  40976.868056  \n",
       "3  41291.340972  \n",
       "4  41354.201389  "
      ]
     },
     "execution_count": 35,
     "metadata": {},
     "output_type": "execute_result"
    }
   ],
   "source": [
    "# b) group by branch and get average\n",
    "sales_df_v3 = sales_df_v3.groupby(['branch']).mean().reset_index()"
   ]
  },
  {
   "cell_type": "code",
   "execution_count": 36,
   "metadata": {},
   "outputs": [
    {
     "data": {
      "text/html": [
       "<div>\n",
       "<style scoped>\n",
       "    .dataframe tbody tr th:only-of-type {\n",
       "        vertical-align: middle;\n",
       "    }\n",
       "\n",
       "    .dataframe tbody tr th {\n",
       "        vertical-align: top;\n",
       "    }\n",
       "\n",
       "    .dataframe thead th {\n",
       "        text-align: right;\n",
       "    }\n",
       "</style>\n",
       "<table border=\"1\" class=\"dataframe\">\n",
       "  <thead>\n",
       "    <tr style=\"text-align: right;\">\n",
       "      <th></th>\n",
       "      <th>branch</th>\n",
       "      <th>amount_in_gbp</th>\n",
       "    </tr>\n",
       "  </thead>\n",
       "  <tbody>\n",
       "    <tr>\n",
       "      <th>0</th>\n",
       "      <td>Armagh outlet</td>\n",
       "      <td>4.379977e+06</td>\n",
       "    </tr>\n",
       "    <tr>\n",
       "      <th>1</th>\n",
       "      <td>Ballymoney store</td>\n",
       "      <td>4.417557e+06</td>\n",
       "    </tr>\n",
       "    <tr>\n",
       "      <th>2</th>\n",
       "      <td>Bargoed outlet</td>\n",
       "      <td>4.432274e+06</td>\n",
       "    </tr>\n",
       "    <tr>\n",
       "      <th>3</th>\n",
       "      <td>Barry outlet</td>\n",
       "      <td>4.406362e+06</td>\n",
       "    </tr>\n",
       "    <tr>\n",
       "      <th>4</th>\n",
       "      <td>Bassetlaw outlet</td>\n",
       "      <td>4.368193e+06</td>\n",
       "    </tr>\n",
       "  </tbody>\n",
       "</table>\n",
       "</div>"
      ],
      "text/plain": [
       "             branch  amount_in_gbp\n",
       "0     Armagh outlet   4.379977e+06\n",
       "1  Ballymoney store   4.417557e+06\n",
       "2    Bargoed outlet   4.432274e+06\n",
       "3      Barry outlet   4.406362e+06\n",
       "4  Bassetlaw outlet   4.368193e+06"
      ]
     },
     "execution_count": 36,
     "metadata": {},
     "output_type": "execute_result"
    }
   ],
   "source": [
    "# c) coutout (drop) columns \n",
    "sales_df_v3 = sales_df_v3.drop(['year', 'month', 'day', 'hour', 'qty'], axis=1)"
   ]
  },
  {
   "cell_type": "code",
   "execution_count": 37,
   "metadata": {},
   "outputs": [],
   "source": [
    "# d) save to csv\n",
    "sales_df_v3.to_csv('data_output/2_visuals_pt3.csv')"
   ]
  }
 ],
 "metadata": {
  "interpreter": {
   "hash": "750956acfe3e797a2cfb6286c1ff4c2da5e7982e4e800e57feede9471db7afd0"
  },
  "kernelspec": {
   "display_name": "Python 3.8.10 64-bit (windows store)",
   "language": "python",
   "name": "python3"
  },
  "language_info": {
   "codemirror_mode": {
    "name": "ipython",
    "version": 3
   },
   "file_extension": ".py",
   "mimetype": "text/x-python",
   "name": "python",
   "nbconvert_exporter": "python",
   "pygments_lexer": "ipython3",
   "version": "3.8.10"
  },
  "orig_nbformat": 4
 },
 "nbformat": 4,
 "nbformat_minor": 2
}
