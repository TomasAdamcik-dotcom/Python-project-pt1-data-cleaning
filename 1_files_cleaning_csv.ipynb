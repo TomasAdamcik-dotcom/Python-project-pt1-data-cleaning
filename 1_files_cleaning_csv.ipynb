{
 "cells": [
  {
   "cell_type": "code",
   "execution_count": 1,
   "metadata": {},
   "outputs": [
    {
     "name": "stdout",
     "output_type": "stream",
     "text": [
      "Requirement already satisfied: pandas in c:\\users\\adamc\\appdata\\local\\packages\\pythonsoftwarefoundation.python.3.8_qbz5n2kfra8p0\\localcache\\local-packages\\python38\\site-packages (1.3.4)\n",
      "Requirement already satisfied: python-dateutil>=2.7.3 in c:\\users\\adamc\\appdata\\local\\packages\\pythonsoftwarefoundation.python.3.8_qbz5n2kfra8p0\\localcache\\local-packages\\python38\\site-packages (from pandas) (2.8.2)\n",
      "Requirement already satisfied: numpy>=1.17.3 in c:\\users\\adamc\\appdata\\local\\packages\\pythonsoftwarefoundation.python.3.8_qbz5n2kfra8p0\\localcache\\local-packages\\python38\\site-packages (from pandas) (1.21.4)\n",
      "Requirement already satisfied: pytz>=2017.3 in c:\\users\\adamc\\appdata\\local\\packages\\pythonsoftwarefoundation.python.3.8_qbz5n2kfra8p0\\localcache\\local-packages\\python38\\site-packages (from pandas) (2021.3)\n",
      "Requirement already satisfied: six>=1.5 in c:\\users\\adamc\\appdata\\local\\packages\\pythonsoftwarefoundation.python.3.8_qbz5n2kfra8p0\\localcache\\local-packages\\python38\\site-packages (from python-dateutil>=2.7.3->pandas) (1.16.0)\n"
     ]
    },
    {
     "name": "stderr",
     "output_type": "stream",
     "text": [
      "WARNING: You are using pip version 21.1.1; however, version 21.3.1 is available.\n",
      "You should consider upgrading via the 'C:\\Users\\adamc\\AppData\\Local\\Microsoft\\WindowsApps\\PythonSoftwareFoundation.Python.3.8_qbz5n2kfra8p0\\python.exe -m pip install --upgrade pip' command.\n"
     ]
    },
    {
     "name": "stdout",
     "output_type": "stream",
     "text": [
      "Requirement already satisfied: petl in c:\\users\\adamc\\appdata\\local\\packages\\pythonsoftwarefoundation.python.3.8_qbz5n2kfra8p0\\localcache\\local-packages\\python38\\site-packages (1.7.4)\n"
     ]
    },
    {
     "name": "stderr",
     "output_type": "stream",
     "text": [
      "WARNING: You are using pip version 21.1.1; however, version 21.3.1 is available.\n",
      "You should consider upgrading via the 'C:\\Users\\adamc\\AppData\\Local\\Microsoft\\WindowsApps\\PythonSoftwareFoundation.Python.3.8_qbz5n2kfra8p0\\python.exe -m pip install --upgrade pip' command.\n",
      "ERROR: Could not find a version that satisfies the requirement glob (from versions: none)\n",
      "ERROR: No matching distribution found for glob\n",
      "WARNING: You are using pip version 21.1.1; however, version 21.3.1 is available.\n",
      "You should consider upgrading via the 'C:\\Users\\adamc\\AppData\\Local\\Microsoft\\WindowsApps\\PythonSoftwareFoundation.Python.3.8_qbz5n2kfra8p0\\python.exe -m pip install --upgrade pip' command.\n"
     ]
    }
   ],
   "source": [
    "! pip install pandas\n",
    "! pip install petl\n",
    "! pip install glob\n"
   ]
  },
  {
   "cell_type": "code",
   "execution_count": 2,
   "metadata": {},
   "outputs": [],
   "source": [
    "import pandas as pd\n",
    "import petl as etl\n",
    "import os\n",
    "import glob"
   ]
  },
  {
   "cell_type": "markdown",
   "metadata": {},
   "source": [
    "1. Creating dataframe of all CSV files"
   ]
  },
  {
   "cell_type": "code",
   "execution_count": 3,
   "metadata": {},
   "outputs": [
    {
     "name": "stderr",
     "output_type": "stream",
     "text": [
      "C:\\Users\\adamc\\AppData\\Local\\Packages\\PythonSoftwareFoundation.Python.3.8_qbz5n2kfra8p0\\LocalCache\\local-packages\\Python38\\site-packages\\pandas\\core\\reshape\\concat.py:348: DtypeWarning: Columns (5) have mixed types.Specify dtype option on import or set low_memory=False.\n",
      "  objs = list(objs)\n"
     ]
    },
    {
     "data": {
      "text/html": [
       "<div>\n",
       "<style scoped>\n",
       "    .dataframe tbody tr th:only-of-type {\n",
       "        vertical-align: middle;\n",
       "    }\n",
       "\n",
       "    .dataframe tbody tr th {\n",
       "        vertical-align: top;\n",
       "    }\n",
       "\n",
       "    .dataframe thead th {\n",
       "        text-align: right;\n",
       "    }\n",
       "</style>\n",
       "<table border=\"1\" class=\"dataframe\">\n",
       "  <thead>\n",
       "    <tr style=\"text-align: right;\">\n",
       "      <th></th>\n",
       "      <th>year</th>\n",
       "      <th>month</th>\n",
       "      <th>day</th>\n",
       "      <th>hour</th>\n",
       "      <th>product</th>\n",
       "      <th>quantity</th>\n",
       "      <th>amount_in_gbp</th>\n",
       "      <th>branch</th>\n",
       "    </tr>\n",
       "  </thead>\n",
       "  <tbody>\n",
       "    <tr>\n",
       "      <th>0</th>\n",
       "      <td>2010</td>\n",
       "      <td>1</td>\n",
       "      <td>9</td>\n",
       "      <td>0</td>\n",
       "      <td>chocolate twist</td>\n",
       "      <td>182</td>\n",
       "      <td>145.6</td>\n",
       "      <td>Bassetlaw outlet</td>\n",
       "    </tr>\n",
       "    <tr>\n",
       "      <th>1</th>\n",
       "      <td>2010</td>\n",
       "      <td>1</td>\n",
       "      <td>9</td>\n",
       "      <td>0</td>\n",
       "      <td>plastic sunshades</td>\n",
       "      <td>98</td>\n",
       "      <td>313.6</td>\n",
       "      <td>Bassetlaw outlet</td>\n",
       "    </tr>\n",
       "    <tr>\n",
       "      <th>2</th>\n",
       "      <td>2010</td>\n",
       "      <td>1</td>\n",
       "      <td>9</td>\n",
       "      <td>0</td>\n",
       "      <td>lg washing machine</td>\n",
       "      <td>151</td>\n",
       "      <td>12080.0</td>\n",
       "      <td>Bassetlaw outlet</td>\n",
       "    </tr>\n",
       "    <tr>\n",
       "      <th>3</th>\n",
       "      <td>2010</td>\n",
       "      <td>1</td>\n",
       "      <td>9</td>\n",
       "      <td>0</td>\n",
       "      <td>fresh whole chicken</td>\n",
       "      <td>230</td>\n",
       "      <td>257.6</td>\n",
       "      <td>Bassetlaw outlet</td>\n",
       "    </tr>\n",
       "    <tr>\n",
       "      <th>4</th>\n",
       "      <td>2010</td>\n",
       "      <td>1</td>\n",
       "      <td>9</td>\n",
       "      <td>0</td>\n",
       "      <td>free range large eggs x12</td>\n",
       "      <td>150</td>\n",
       "      <td>180.0</td>\n",
       "      <td>Bassetlaw outlet</td>\n",
       "    </tr>\n",
       "  </tbody>\n",
       "</table>\n",
       "</div>"
      ],
      "text/plain": [
       "   year  month  day  hour                    product quantity  amount_in_gbp  \\\n",
       "0  2010      1    9     0            chocolate twist      182          145.6   \n",
       "1  2010      1    9     0          plastic sunshades       98          313.6   \n",
       "2  2010      1    9     0         lg washing machine      151        12080.0   \n",
       "3  2010      1    9     0        fresh whole chicken      230          257.6   \n",
       "4  2010      1    9     0  free range large eggs x12      150          180.0   \n",
       "\n",
       "             branch  \n",
       "0  Bassetlaw outlet  \n",
       "1  Bassetlaw outlet  \n",
       "2  Bassetlaw outlet  \n",
       "3  Bassetlaw outlet  \n",
       "4  Bassetlaw outlet  "
      ]
     },
     "execution_count": 3,
     "metadata": {},
     "output_type": "execute_result"
    }
   ],
   "source": [
    "# CSV FILES APPENDING TO A SINGLE DATAFRAME\n",
    "\n",
    "path = \"branch_data/sales_by_branch\"\n",
    "all_csv_files = glob.glob(os.path.join(path, \"*.csv\"))\n",
    "\n",
    "df_from_each_csv_file = (pd\n",
    "                    .read_csv(file, sep=',')\n",
    "                    .rename(columns={\n",
    "                        'total_quantity': 'quantity', \n",
    "                        'quantity_purchased': 'quantity',\n",
    "                        'total_quantity_purchased': 'quantity',\n",
    "                        'item': 'product',\n",
    "                        'sku': 'product',\n",
    "                        })\n",
    "                    .assign(branch = file[38:][:-4].replace('_', ' ')) \n",
    "                    for file in all_csv_files)\n",
    "\n",
    "\n",
    "df_csv_merged = pd.concat(df_from_each_csv_file, ignore_index=True)\n",
    "\n",
    "# df_csv_merged = pd.DataFrame(df_csv_merged)\n",
    "df_csv_merged.head()"
   ]
  },
  {
   "cell_type": "code",
   "execution_count": 4,
   "metadata": {},
   "outputs": [],
   "source": [
    "# renaming dataframe to be reused for both CSV and JSON dataframes\n",
    "sales_df = df_csv_merged"
   ]
  },
  {
   "cell_type": "markdown",
   "metadata": {},
   "source": [
    "2. Formatting of main dataframes"
   ]
  },
  {
   "cell_type": "code",
   "execution_count": 5,
   "metadata": {},
   "outputs": [
    {
     "name": "stdout",
     "output_type": "stream",
     "text": [
      "+------+-------+-----+------+---------------------------+----------+--------------------+------------------+\n",
      "| year | month | day | hour | product                   | quantity | amount_in_gbp      | branch           |\n",
      "+======+=======+=====+======+===========================+==========+====================+==================+\n",
      "| 2010 |     1 |   9 |    0 | chocolate twist           | 182      |              145.6 | Bassetlaw outlet |\n",
      "+------+-------+-----+------+---------------------------+----------+--------------------+------------------+\n",
      "| 2010 |     1 |   9 |    0 | plastic sunshades         | 98       |              313.6 | Bassetlaw outlet |\n",
      "+------+-------+-----+------+---------------------------+----------+--------------------+------------------+\n",
      "| 2010 |     1 |   9 |    0 | lg washing machine        | 151      |            12080.0 | Bassetlaw outlet |\n",
      "+------+-------+-----+------+---------------------------+----------+--------------------+------------------+\n",
      "| 2010 |     1 |   9 |    0 | fresh whole chicken       | 230      |              257.6 | Bassetlaw outlet |\n",
      "+------+-------+-----+------+---------------------------+----------+--------------------+------------------+\n",
      "| 2010 |     1 |   9 |    0 | free range large eggs x12 | 150      | 180.00000000000003 | Bassetlaw outlet |\n",
      "+------+-------+-----+------+---------------------------+----------+--------------------+------------------+\n",
      "...\n",
      "\n"
     ]
    }
   ],
   "source": [
    "'''1 Convert to table'''\n",
    "sales_df = etl.fromdataframe(sales_df)\n",
    "print(sales_df)"
   ]
  },
  {
   "cell_type": "code",
   "execution_count": 6,
   "metadata": {},
   "outputs": [
    {
     "name": "stdout",
     "output_type": "stream",
     "text": [
      "+------+-------+-----+------+---------------------------+----------+--------------------+------------------+\n",
      "| year | month | day | hour | product                   | quantity | amount_in_gbp      | branch           |\n",
      "+======+=======+=====+======+===========================+==========+====================+==================+\n",
      "| 2010 |     1 |   9 |    0 | chocolate twist           | 182      |              145.6 | Bassetlaw outlet |\n",
      "+------+-------+-----+------+---------------------------+----------+--------------------+------------------+\n",
      "| 2010 |     1 |   9 |    0 | plastic sunshades         | 98       |              313.6 | Bassetlaw outlet |\n",
      "+------+-------+-----+------+---------------------------+----------+--------------------+------------------+\n",
      "| 2010 |     1 |   9 |    0 | lg washing machine        | 151      |            12080.0 | Bassetlaw outlet |\n",
      "+------+-------+-----+------+---------------------------+----------+--------------------+------------------+\n",
      "| 2010 |     1 |   9 |    0 | fresh whole chicken       | 230      |              257.6 | Bassetlaw outlet |\n",
      "+------+-------+-----+------+---------------------------+----------+--------------------+------------------+\n",
      "| 2010 |     1 |   9 |    0 | free range large eggs x12 | 150      | 180.00000000000003 | Bassetlaw outlet |\n",
      "+------+-------+-----+------+---------------------------+----------+--------------------+------------------+\n",
      "...\n",
      "\n"
     ]
    }
   ],
   "source": [
    "'''2 replace '-' with '0' '''\n",
    "sales_df = etl.replaceall(sales_df, '-', '0')\n",
    "print(sales_df)"
   ]
  },
  {
   "cell_type": "code",
   "execution_count": 7,
   "metadata": {},
   "outputs": [
    {
     "data": {
      "text/html": [
       "<table class='petl'>\n",
       "<thead>\n",
       "<tr>\n",
       "<th>year</th>\n",
       "<th>month</th>\n",
       "<th>day</th>\n",
       "<th>hour</th>\n",
       "<th>product</th>\n",
       "<th>amount_in_gbp</th>\n",
       "<th>branch</th>\n",
       "<th>qty</th>\n",
       "</tr>\n",
       "</thead>\n",
       "<tbody>\n",
       "<tr>\n",
       "<td style='text-align: right'>2010</td>\n",
       "<td style='text-align: right'>1</td>\n",
       "<td style='text-align: right'>9</td>\n",
       "<td style='text-align: right'>0</td>\n",
       "<td>chocolate twist</td>\n",
       "<td style='text-align: right'>145.6</td>\n",
       "<td>Bassetlaw outlet</td>\n",
       "<td style='text-align: right'>182</td>\n",
       "</tr>\n",
       "<tr>\n",
       "<td style='text-align: right'>2010</td>\n",
       "<td style='text-align: right'>1</td>\n",
       "<td style='text-align: right'>9</td>\n",
       "<td style='text-align: right'>0</td>\n",
       "<td>plastic sunshades</td>\n",
       "<td style='text-align: right'>313.6</td>\n",
       "<td>Bassetlaw outlet</td>\n",
       "<td style='text-align: right'>98</td>\n",
       "</tr>\n",
       "<tr>\n",
       "<td style='text-align: right'>2010</td>\n",
       "<td style='text-align: right'>1</td>\n",
       "<td style='text-align: right'>9</td>\n",
       "<td style='text-align: right'>0</td>\n",
       "<td>lg washing machine</td>\n",
       "<td style='text-align: right'>12080.0</td>\n",
       "<td>Bassetlaw outlet</td>\n",
       "<td style='text-align: right'>151</td>\n",
       "</tr>\n",
       "<tr>\n",
       "<td style='text-align: right'>2010</td>\n",
       "<td style='text-align: right'>1</td>\n",
       "<td style='text-align: right'>9</td>\n",
       "<td style='text-align: right'>0</td>\n",
       "<td>fresh whole chicken</td>\n",
       "<td style='text-align: right'>257.6</td>\n",
       "<td>Bassetlaw outlet</td>\n",
       "<td style='text-align: right'>230</td>\n",
       "</tr>\n",
       "<tr>\n",
       "<td style='text-align: right'>2010</td>\n",
       "<td style='text-align: right'>1</td>\n",
       "<td style='text-align: right'>9</td>\n",
       "<td style='text-align: right'>0</td>\n",
       "<td>free range large eggs x12</td>\n",
       "<td style='text-align: right'>180.00000000000003</td>\n",
       "<td>Bassetlaw outlet</td>\n",
       "<td style='text-align: right'>150</td>\n",
       "</tr>\n",
       "</tbody>\n",
       "</table>\n",
       "<p><strong>...</strong></p>"
      ],
      "text/plain": [
       "+------+-------+-----+------+-----------------------------+--------------------+--------------------+-----+\n",
       "| year | month | day | hour | product                     | amount_in_gbp      | branch             | qty |\n",
       "+======+=======+=====+======+=============================+====================+====================+=====+\n",
       "| 2010 |     1 |   9 |    0 | 'chocolate twist'           |              145.6 | 'Bassetlaw outlet' | 182 |\n",
       "+------+-------+-----+------+-----------------------------+--------------------+--------------------+-----+\n",
       "| 2010 |     1 |   9 |    0 | 'plastic sunshades'         |              313.6 | 'Bassetlaw outlet' |  98 |\n",
       "+------+-------+-----+------+-----------------------------+--------------------+--------------------+-----+\n",
       "| 2010 |     1 |   9 |    0 | 'lg washing machine'        |            12080.0 | 'Bassetlaw outlet' | 151 |\n",
       "+------+-------+-----+------+-----------------------------+--------------------+--------------------+-----+\n",
       "| 2010 |     1 |   9 |    0 | 'fresh whole chicken'       |              257.6 | 'Bassetlaw outlet' | 230 |\n",
       "+------+-------+-----+------+-----------------------------+--------------------+--------------------+-----+\n",
       "| 2010 |     1 |   9 |    0 | 'free range large eggs x12' | 180.00000000000003 | 'Bassetlaw outlet' | 150 |\n",
       "+------+-------+-----+------+-----------------------------+--------------------+--------------------+-----+\n",
       "..."
      ]
     },
     "execution_count": 7,
     "metadata": {},
     "output_type": "execute_result"
    }
   ],
   "source": [
    "'''4 convert to numbers'''\n",
    "sales_df = etl.addfield(sales_df, 'qty', lambda row: int(row.quantity))\n",
    "sales_df = etl.cutout(sales_df, 'quantity')\n",
    "sales_df\n",
    "\n"
   ]
  },
  {
   "cell_type": "markdown",
   "metadata": {},
   "source": [
    "3. Save table to CSV file\n",
    "    - this is quicker than converting to dataframe"
   ]
  },
  {
   "cell_type": "code",
   "execution_count": 8,
   "metadata": {},
   "outputs": [],
   "source": [
    "etl.tocsv(sales_df,'data_output/1_csv_files_dataframe.csv')"
   ]
  }
 ],
 "metadata": {
  "interpreter": {
   "hash": "750956acfe3e797a2cfb6286c1ff4c2da5e7982e4e800e57feede9471db7afd0"
  },
  "kernelspec": {
   "display_name": "Python 3.8.10 64-bit (windows store)",
   "language": "python",
   "name": "python3"
  },
  "language_info": {
   "codemirror_mode": {
    "name": "ipython",
    "version": 3
   },
   "file_extension": ".py",
   "mimetype": "text/x-python",
   "name": "python",
   "nbconvert_exporter": "python",
   "pygments_lexer": "ipython3",
   "version": "3.8.10"
  },
  "orig_nbformat": 4
 },
 "nbformat": 4,
 "nbformat_minor": 2
}
