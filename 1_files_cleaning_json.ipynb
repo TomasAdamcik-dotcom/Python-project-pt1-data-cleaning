{
 "cells": [
  {
   "cell_type": "code",
   "execution_count": 1,
   "metadata": {},
   "outputs": [
    {
     "name": "stderr",
     "output_type": "stream",
     "text": [
      "WARNING: You are using pip version 21.1.1; however, version 21.3.1 is available.\n",
      "You should consider upgrading via the 'C:\\Users\\adamc\\AppData\\Local\\Microsoft\\WindowsApps\\PythonSoftwareFoundation.Python.3.8_qbz5n2kfra8p0\\python.exe -m pip install --upgrade pip' command.\n"
     ]
    },
    {
     "name": "stdout",
     "output_type": "stream",
     "text": [
      "Requirement already satisfied: pandas in c:\\users\\adamc\\appdata\\local\\packages\\pythonsoftwarefoundation.python.3.8_qbz5n2kfra8p0\\localcache\\local-packages\\python38\\site-packages (1.3.4)\n",
      "Requirement already satisfied: pytz>=2017.3 in c:\\users\\adamc\\appdata\\local\\packages\\pythonsoftwarefoundation.python.3.8_qbz5n2kfra8p0\\localcache\\local-packages\\python38\\site-packages (from pandas) (2021.3)\n",
      "Requirement already satisfied: numpy>=1.17.3 in c:\\users\\adamc\\appdata\\local\\packages\\pythonsoftwarefoundation.python.3.8_qbz5n2kfra8p0\\localcache\\local-packages\\python38\\site-packages (from pandas) (1.21.4)\n",
      "Requirement already satisfied: python-dateutil>=2.7.3 in c:\\users\\adamc\\appdata\\local\\packages\\pythonsoftwarefoundation.python.3.8_qbz5n2kfra8p0\\localcache\\local-packages\\python38\\site-packages (from pandas) (2.8.2)\n",
      "Requirement already satisfied: six>=1.5 in c:\\users\\adamc\\appdata\\local\\packages\\pythonsoftwarefoundation.python.3.8_qbz5n2kfra8p0\\localcache\\local-packages\\python38\\site-packages (from python-dateutil>=2.7.3->pandas) (1.16.0)\n",
      "Requirement already satisfied: petl in c:\\users\\adamc\\appdata\\local\\packages\\pythonsoftwarefoundation.python.3.8_qbz5n2kfra8p0\\localcache\\local-packages\\python38\\site-packages (1.7.4)\n"
     ]
    },
    {
     "name": "stderr",
     "output_type": "stream",
     "text": [
      "WARNING: You are using pip version 21.1.1; however, version 21.3.1 is available.\n",
      "You should consider upgrading via the 'C:\\Users\\adamc\\AppData\\Local\\Microsoft\\WindowsApps\\PythonSoftwareFoundation.Python.3.8_qbz5n2kfra8p0\\python.exe -m pip install --upgrade pip' command.\n",
      "ERROR: Could not find a version that satisfies the requirement glob (from versions: none)\n",
      "ERROR: No matching distribution found for glob\n",
      "WARNING: You are using pip version 21.1.1; however, version 21.3.1 is available.\n",
      "You should consider upgrading via the 'C:\\Users\\adamc\\AppData\\Local\\Microsoft\\WindowsApps\\PythonSoftwareFoundation.Python.3.8_qbz5n2kfra8p0\\python.exe -m pip install --upgrade pip' command.\n"
     ]
    }
   ],
   "source": [
    "! pip install pandas\n",
    "! pip install petl\n",
    "! pip install glob\n"
   ]
  },
  {
   "cell_type": "code",
   "execution_count": 2,
   "metadata": {},
   "outputs": [],
   "source": [
    "import pandas as pd\n",
    "import petl as etl\n",
    "import os\n",
    "import glob"
   ]
  },
  {
   "cell_type": "markdown",
   "metadata": {},
   "source": [
    "1. Creating dataframe of all JSON files"
   ]
  },
  {
   "cell_type": "code",
   "execution_count": 3,
   "metadata": {},
   "outputs": [
    {
     "data": {
      "text/html": [
       "<div>\n",
       "<style scoped>\n",
       "    .dataframe tbody tr th:only-of-type {\n",
       "        vertical-align: middle;\n",
       "    }\n",
       "\n",
       "    .dataframe tbody tr th {\n",
       "        vertical-align: top;\n",
       "    }\n",
       "\n",
       "    .dataframe thead th {\n",
       "        text-align: right;\n",
       "    }\n",
       "</style>\n",
       "<table border=\"1\" class=\"dataframe\">\n",
       "  <thead>\n",
       "    <tr style=\"text-align: right;\">\n",
       "      <th></th>\n",
       "      <th>year</th>\n",
       "      <th>month</th>\n",
       "      <th>day</th>\n",
       "      <th>hour</th>\n",
       "      <th>product</th>\n",
       "      <th>quantity</th>\n",
       "      <th>amount_in_gbp</th>\n",
       "      <th>branch</th>\n",
       "    </tr>\n",
       "  </thead>\n",
       "  <tbody>\n",
       "    <tr>\n",
       "      <th>0</th>\n",
       "      <td>2010</td>\n",
       "      <td>1</td>\n",
       "      <td>1</td>\n",
       "      <td>0</td>\n",
       "      <td>Sweet potatoes loose</td>\n",
       "      <td>160</td>\n",
       "      <td>140.800</td>\n",
       "      <td>Ceredigion store</td>\n",
       "    </tr>\n",
       "    <tr>\n",
       "      <th>1</th>\n",
       "      <td>2010</td>\n",
       "      <td>1</td>\n",
       "      <td>1</td>\n",
       "      <td>0</td>\n",
       "      <td>Plain Greek yoghurt</td>\n",
       "      <td>59</td>\n",
       "      <td>47.200</td>\n",
       "      <td>Ceredigion store</td>\n",
       "    </tr>\n",
       "    <tr>\n",
       "      <th>2</th>\n",
       "      <td>2010</td>\n",
       "      <td>1</td>\n",
       "      <td>1</td>\n",
       "      <td>0</td>\n",
       "      <td>sea bass fillets</td>\n",
       "      <td>163</td>\n",
       "      <td>365.120</td>\n",
       "      <td>Ceredigion store</td>\n",
       "    </tr>\n",
       "    <tr>\n",
       "      <th>3</th>\n",
       "      <td>2010</td>\n",
       "      <td>1</td>\n",
       "      <td>1</td>\n",
       "      <td>0</td>\n",
       "      <td>grey cardigan</td>\n",
       "      <td>222</td>\n",
       "      <td>3552.000</td>\n",
       "      <td>Ceredigion store</td>\n",
       "    </tr>\n",
       "    <tr>\n",
       "      <th>4</th>\n",
       "      <td>2010</td>\n",
       "      <td>1</td>\n",
       "      <td>1</td>\n",
       "      <td>0</td>\n",
       "      <td>british parsnips loose</td>\n",
       "      <td>144</td>\n",
       "      <td>96.768</td>\n",
       "      <td>Ceredigion store</td>\n",
       "    </tr>\n",
       "  </tbody>\n",
       "</table>\n",
       "</div>"
      ],
      "text/plain": [
       "   year  month  day  hour                 product quantity  amount_in_gbp  \\\n",
       "0  2010      1    1     0    Sweet potatoes loose      160        140.800   \n",
       "1  2010      1    1     0     Plain Greek yoghurt       59         47.200   \n",
       "2  2010      1    1     0        sea bass fillets      163        365.120   \n",
       "3  2010      1    1     0           grey cardigan      222       3552.000   \n",
       "4  2010      1    1     0  british parsnips loose      144         96.768   \n",
       "\n",
       "             branch  \n",
       "0  Ceredigion store  \n",
       "1  Ceredigion store  \n",
       "2  Ceredigion store  \n",
       "3  Ceredigion store  \n",
       "4  Ceredigion store  "
      ]
     },
     "execution_count": 3,
     "metadata": {},
     "output_type": "execute_result"
    }
   ],
   "source": [
    "# JSON FILES APPENDING TO A SINGLE DATAFRAME\n",
    "path = \"branch_data/sales_by_branch\"\n",
    "\n",
    "all_json_files = glob.glob(os.path.join(path, \"*.json\"))\n",
    "\n",
    "df_from_each_json_file = (pd\n",
    "                    .read_json(file)\n",
    "                    .rename(columns={\n",
    "                        'total_quantity': 'quantity', \n",
    "                        'quantity_purchased': 'quantity',\n",
    "                        'total_quantity_purchased': 'quantity',\n",
    "                        'item': 'product',\n",
    "                        'sku': 'product'\n",
    "                        })\n",
    "                    .assign(branch = file[38:][:-5].replace('_', ' ')) \n",
    "                    for file in all_json_files )\n",
    "\n",
    "df_json_merged = pd.concat(df_from_each_json_file, ignore_index=True)\n",
    "df_json_merged.head()"
   ]
  },
  {
   "cell_type": "code",
   "execution_count": 4,
   "metadata": {},
   "outputs": [],
   "source": [
    "# renaming dataframe to be reused for both CSV and JSON dataframes\n",
    "sales_df = df_json_merged"
   ]
  },
  {
   "cell_type": "markdown",
   "metadata": {},
   "source": [
    "2. Formatting of main dataframes"
   ]
  },
  {
   "cell_type": "code",
   "execution_count": 5,
   "metadata": {},
   "outputs": [
    {
     "name": "stdout",
     "output_type": "stream",
     "text": [
      "+------+-------+-----+------+------------------------+----------+--------------------+------------------+\n",
      "| year | month | day | hour | product                | quantity | amount_in_gbp      | branch           |\n",
      "+======+=======+=====+======+========================+==========+====================+==================+\n",
      "| 2010 |     1 |   1 |    0 | Sweet potatoes loose   |      160 |              140.8 | Ceredigion store |\n",
      "+------+-------+-----+------+------------------------+----------+--------------------+------------------+\n",
      "| 2010 |     1 |   1 |    0 | Plain Greek yoghurt    |       59 |               47.2 | Ceredigion store |\n",
      "+------+-------+-----+------+------------------------+----------+--------------------+------------------+\n",
      "| 2010 |     1 |   1 |    0 | sea bass fillets       |      163 | 365.11999999999995 | Ceredigion store |\n",
      "+------+-------+-----+------+------------------------+----------+--------------------+------------------+\n",
      "| 2010 |     1 |   1 |    0 | grey cardigan          |      222 |             3552.0 | Ceredigion store |\n",
      "+------+-------+-----+------+------------------------+----------+--------------------+------------------+\n",
      "| 2010 |     1 |   1 |    0 | british parsnips loose |      144 |             96.768 | Ceredigion store |\n",
      "+------+-------+-----+------+------------------------+----------+--------------------+------------------+\n",
      "...\n",
      "\n"
     ]
    }
   ],
   "source": [
    "'''1 Convert to table'''\n",
    "sales_df = etl.fromdataframe(sales_df)\n",
    "print(sales_df)"
   ]
  },
  {
   "cell_type": "code",
   "execution_count": 6,
   "metadata": {},
   "outputs": [
    {
     "name": "stdout",
     "output_type": "stream",
     "text": [
      "+------+-------+-----+------+------------------------+----------+--------------------+------------------+\n",
      "| year | month | day | hour | product                | quantity | amount_in_gbp      | branch           |\n",
      "+======+=======+=====+======+========================+==========+====================+==================+\n",
      "| 2010 |     1 |   1 |    0 | Sweet potatoes loose   |      160 |              140.8 | Ceredigion store |\n",
      "+------+-------+-----+------+------------------------+----------+--------------------+------------------+\n",
      "| 2010 |     1 |   1 |    0 | Plain Greek yoghurt    |       59 |               47.2 | Ceredigion store |\n",
      "+------+-------+-----+------+------------------------+----------+--------------------+------------------+\n",
      "| 2010 |     1 |   1 |    0 | sea bass fillets       |      163 | 365.11999999999995 | Ceredigion store |\n",
      "+------+-------+-----+------+------------------------+----------+--------------------+------------------+\n",
      "| 2010 |     1 |   1 |    0 | grey cardigan          |      222 |             3552.0 | Ceredigion store |\n",
      "+------+-------+-----+------+------------------------+----------+--------------------+------------------+\n",
      "| 2010 |     1 |   1 |    0 | british parsnips loose |      144 |             96.768 | Ceredigion store |\n",
      "+------+-------+-----+------+------------------------+----------+--------------------+------------------+\n",
      "...\n",
      "\n"
     ]
    }
   ],
   "source": [
    "'''2 replace '-' with '0' '''\n",
    "sales_df = etl.replaceall(sales_df, '-', '0')\n",
    "print(sales_df)"
   ]
  },
  {
   "cell_type": "code",
   "execution_count": 7,
   "metadata": {},
   "outputs": [
    {
     "data": {
      "text/html": [
       "<table class='petl'>\n",
       "<thead>\n",
       "<tr>\n",
       "<th>year</th>\n",
       "<th>month</th>\n",
       "<th>day</th>\n",
       "<th>hour</th>\n",
       "<th>product</th>\n",
       "<th>amount_in_gbp</th>\n",
       "<th>branch</th>\n",
       "<th>qty</th>\n",
       "</tr>\n",
       "</thead>\n",
       "<tbody>\n",
       "<tr>\n",
       "<td style='text-align: right'>2010</td>\n",
       "<td style='text-align: right'>1</td>\n",
       "<td style='text-align: right'>1</td>\n",
       "<td style='text-align: right'>0</td>\n",
       "<td>Sweet potatoes loose</td>\n",
       "<td style='text-align: right'>140.8</td>\n",
       "<td>Ceredigion store</td>\n",
       "<td style='text-align: right'>160</td>\n",
       "</tr>\n",
       "<tr>\n",
       "<td style='text-align: right'>2010</td>\n",
       "<td style='text-align: right'>1</td>\n",
       "<td style='text-align: right'>1</td>\n",
       "<td style='text-align: right'>0</td>\n",
       "<td>Plain Greek yoghurt</td>\n",
       "<td style='text-align: right'>47.2</td>\n",
       "<td>Ceredigion store</td>\n",
       "<td style='text-align: right'>59</td>\n",
       "</tr>\n",
       "<tr>\n",
       "<td style='text-align: right'>2010</td>\n",
       "<td style='text-align: right'>1</td>\n",
       "<td style='text-align: right'>1</td>\n",
       "<td style='text-align: right'>0</td>\n",
       "<td>sea bass fillets</td>\n",
       "<td style='text-align: right'>365.11999999999995</td>\n",
       "<td>Ceredigion store</td>\n",
       "<td style='text-align: right'>163</td>\n",
       "</tr>\n",
       "<tr>\n",
       "<td style='text-align: right'>2010</td>\n",
       "<td style='text-align: right'>1</td>\n",
       "<td style='text-align: right'>1</td>\n",
       "<td style='text-align: right'>0</td>\n",
       "<td>grey cardigan</td>\n",
       "<td style='text-align: right'>3552.0</td>\n",
       "<td>Ceredigion store</td>\n",
       "<td style='text-align: right'>222</td>\n",
       "</tr>\n",
       "<tr>\n",
       "<td style='text-align: right'>2010</td>\n",
       "<td style='text-align: right'>1</td>\n",
       "<td style='text-align: right'>1</td>\n",
       "<td style='text-align: right'>0</td>\n",
       "<td>british parsnips loose</td>\n",
       "<td style='text-align: right'>96.768</td>\n",
       "<td>Ceredigion store</td>\n",
       "<td style='text-align: right'>144</td>\n",
       "</tr>\n",
       "</tbody>\n",
       "</table>\n",
       "<p><strong>...</strong></p>"
      ],
      "text/plain": [
       "+------+-------+-----+------+--------------------------+--------------------+--------------------+-----+\n",
       "| year | month | day | hour | product                  | amount_in_gbp      | branch             | qty |\n",
       "+======+=======+=====+======+==========================+====================+====================+=====+\n",
       "| 2010 |     1 |   1 |    0 | 'Sweet potatoes loose'   |              140.8 | 'Ceredigion store' | 160 |\n",
       "+------+-------+-----+------+--------------------------+--------------------+--------------------+-----+\n",
       "| 2010 |     1 |   1 |    0 | 'Plain Greek yoghurt'    |               47.2 | 'Ceredigion store' |  59 |\n",
       "+------+-------+-----+------+--------------------------+--------------------+--------------------+-----+\n",
       "| 2010 |     1 |   1 |    0 | 'sea bass fillets'       | 365.11999999999995 | 'Ceredigion store' | 163 |\n",
       "+------+-------+-----+------+--------------------------+--------------------+--------------------+-----+\n",
       "| 2010 |     1 |   1 |    0 | 'grey cardigan'          |             3552.0 | 'Ceredigion store' | 222 |\n",
       "+------+-------+-----+------+--------------------------+--------------------+--------------------+-----+\n",
       "| 2010 |     1 |   1 |    0 | 'british parsnips loose' |             96.768 | 'Ceredigion store' | 144 |\n",
       "+------+-------+-----+------+--------------------------+--------------------+--------------------+-----+\n",
       "..."
      ]
     },
     "execution_count": 7,
     "metadata": {},
     "output_type": "execute_result"
    }
   ],
   "source": [
    "'''4 convert to numbers'''\n",
    "sales_df = etl.addfield(sales_df, 'qty', lambda row: int(row.quantity))\n",
    "sales_df = etl.cutout(sales_df, 'quantity')\n",
    "sales_df\n",
    "\n"
   ]
  },
  {
   "cell_type": "markdown",
   "metadata": {},
   "source": [
    "3. Save table to CSV file\n",
    "    - this is quicker than converting to dataframe"
   ]
  },
  {
   "cell_type": "code",
   "execution_count": 8,
   "metadata": {},
   "outputs": [],
   "source": [
    "etl.tocsv(sales_df,'data_output/1_json_files_dataframe.csv')"
   ]
  }
 ],
 "metadata": {
  "interpreter": {
   "hash": "750956acfe3e797a2cfb6286c1ff4c2da5e7982e4e800e57feede9471db7afd0"
  },
  "kernelspec": {
   "display_name": "Python 3.8.10 64-bit (windows store)",
   "language": "python",
   "name": "python3"
  },
  "language_info": {
   "codemirror_mode": {
    "name": "ipython",
    "version": 3
   },
   "file_extension": ".py",
   "mimetype": "text/x-python",
   "name": "python",
   "nbconvert_exporter": "python",
   "pygments_lexer": "ipython3",
   "version": "3.8.10"
  },
  "orig_nbformat": 4
 },
 "nbformat": 4,
 "nbformat_minor": 2
}
